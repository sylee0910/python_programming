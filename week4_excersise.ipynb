{
 "cells": [
  {
   "cell_type": "code",
   "execution_count": null,
   "id": "d670e613-7b35-4550-b4a5-1fc78106590b",
   "metadata": {},
   "outputs": [],
   "source": [
    "# 이승율(2023202417)"
   ]
  },
  {
   "cell_type": "code",
   "execution_count": 1,
   "id": "c69b6f91-76d2-427e-861d-ff6082559b18",
   "metadata": {},
   "outputs": [
    {
     "data": {
      "text/plain": [
       "False"
      ]
     },
     "execution_count": 1,
     "metadata": {},
     "output_type": "execute_result"
    }
   ],
   "source": [
    "a = 5\n",
    "a == 6"
   ]
  },
  {
   "cell_type": "code",
   "execution_count": 2,
   "id": "9119b027-a07a-4fc1-aae7-c274048d7ac2",
   "metadata": {},
   "outputs": [
    {
     "data": {
      "text/plain": [
       "False"
      ]
     },
     "execution_count": 2,
     "metadata": {},
     "output_type": "execute_result"
    }
   ],
   "source": [
    "i = 6\n",
    "i > 7"
   ]
  },
  {
   "cell_type": "code",
   "execution_count": 3,
   "id": "2ace038f-c285-43d9-ba9f-40d433bf4fa1",
   "metadata": {},
   "outputs": [
    {
     "data": {
      "text/plain": [
       "False"
      ]
     },
     "execution_count": 3,
     "metadata": {},
     "output_type": "execute_result"
    }
   ],
   "source": [
    "i = 2\n",
    "i > 5"
   ]
  },
  {
   "cell_type": "code",
   "execution_count": 4,
   "id": "f7440050-35a6-486d-8f95-7ecba55a14ce",
   "metadata": {},
   "outputs": [
    {
     "data": {
      "text/plain": [
       "False"
      ]
     },
     "execution_count": 4,
     "metadata": {},
     "output_type": "execute_result"
    }
   ],
   "source": [
    "i = 2\n",
    "i != 2"
   ]
  },
  {
   "cell_type": "code",
   "execution_count": 5,
   "id": "f10ce197-bf1d-40a7-a224-d58af710b713",
   "metadata": {},
   "outputs": [
    {
     "data": {
      "text/plain": [
       "False"
      ]
     },
     "execution_count": 5,
     "metadata": {},
     "output_type": "execute_result"
    }
   ],
   "source": [
    "i = 6\n",
    "i != 6"
   ]
  },
  {
   "cell_type": "code",
   "execution_count": 6,
   "id": "305c255e-c862-41f1-988a-beaec0be013a",
   "metadata": {},
   "outputs": [
    {
     "data": {
      "text/plain": [
       "False"
      ]
     },
     "execution_count": 6,
     "metadata": {},
     "output_type": "execute_result"
    }
   ],
   "source": [
    "'ACDC' == 'Michael Jackson'"
   ]
  },
  {
   "cell_type": "code",
   "execution_count": 7,
   "id": "d6d0a5f7-0523-4bd6-8613-18b387476ec0",
   "metadata": {},
   "outputs": [
    {
     "data": {
      "text/plain": [
       "False"
      ]
     },
     "execution_count": 7,
     "metadata": {},
     "output_type": "execute_result"
    }
   ],
   "source": [
    "\"ACDC\" == \"Michael Jackson\""
   ]
  },
  {
   "cell_type": "code",
   "execution_count": 8,
   "id": "cc6a02c6-953f-43d3-a04d-e11b98d6dffd",
   "metadata": {},
   "outputs": [
    {
     "data": {
      "text/plain": [
       "True"
      ]
     },
     "execution_count": 8,
     "metadata": {},
     "output_type": "execute_result"
    }
   ],
   "source": [
    "'ACDC' != 'Michael Jackson'"
   ]
  },
  {
   "cell_type": "code",
   "execution_count": 9,
   "id": "9cd5100f-8ab1-4366-803c-7c7c967e041b",
   "metadata": {},
   "outputs": [
    {
     "name": "stdout",
     "output_type": "stream",
     "text": [
      "Prohibited\n",
      "okay\n"
     ]
    }
   ],
   "source": [
    "age = 17\n",
    "\n",
    "if age > 18:\n",
    "    print('you can enter')\n",
    "else:\n",
    "    print('Prohibited')\n",
    "    print('okay')"
   ]
  },
  {
   "cell_type": "code",
   "execution_count": 10,
   "id": "f24a2b9c-5ab5-4bcb-a53a-ca3f07fec58a",
   "metadata": {},
   "outputs": [
    {
     "name": "stdout",
     "output_type": "stream",
     "text": [
      "go see Meat Loaf\n",
      "move on\n"
     ]
    }
   ],
   "source": [
    "age = 18\n",
    "\n",
    "if age > 18:\n",
    "    print('you can enter')\n",
    "else:\n",
    "    print('go see Meat Loaf')\n",
    "    \n",
    "print('move on')"
   ]
  },
  {
   "cell_type": "code",
   "execution_count": 11,
   "id": "66bb064b-7289-4d20-987d-6ee75c7c4c01",
   "metadata": {},
   "outputs": [
    {
     "name": "stdout",
     "output_type": "stream",
     "text": [
      "go see Meat Loaf\n"
     ]
    }
   ],
   "source": [
    "age = 17\n",
    "\n",
    "if age > 18:\n",
    "    print('you can enter')\n",
    "elif age == 18:\n",
    "    print('go see Pink Floyd')\n",
    "elif age == 0:\n",
    "    print('this kid cannot leave home')\n",
    "else:\n",
    "    print('go see Meat Loaf')\n"
   ]
  },
  {
   "cell_type": "code",
   "execution_count": 12,
   "id": "aaed0622-3697-4dc7-8d4e-f664e6050eb2",
   "metadata": {},
   "outputs": [
    {
     "name": "stdout",
     "output_type": "stream",
     "text": [
      "Album year is greater than 1980\n"
     ]
    }
   ],
   "source": [
    "album_year = 1983\n",
    "\n",
    "if album_year > 1980:\n",
    "    print('Album year is greater than 1980')\n"
   ]
  },
  {
   "cell_type": "code",
   "execution_count": 13,
   "id": "7d2daa9c-6d57-4c6f-bca0-3b3a2348fcfe",
   "metadata": {},
   "outputs": [
    {
     "name": "stdout",
     "output_type": "stream",
     "text": [
      "Album year is greater than 1980\n",
      "do something..\n"
     ]
    }
   ],
   "source": [
    "album_year = 1983\n",
    "\n",
    "if album_year > 1980:\n",
    "    print('Album year is greater than 1980')\n",
    "else:\n",
    "    print('less than 1980')\n",
    "\n",
    "print('do something..')"
   ]
  },
  {
   "cell_type": "code",
   "execution_count": 15,
   "id": "a392a5b1-465c-4ccf-9c10-46f5cb5ad9b3",
   "metadata": {},
   "outputs": [
    {
     "name": "stdout",
     "output_type": "stream",
     "text": [
      "this is not the case\n"
     ]
    }
   ],
   "source": [
    "album_year = 1991\n",
    "\n",
    "if (album_year > 1979) and (album_year < 1990):\n",
    "    print('Album year was in between 1980 and 1989')\n",
    "else:\n",
    "    print('this is not the case')\n"
   ]
  },
  {
   "cell_type": "code",
   "execution_count": 16,
   "id": "f0a07286-93ee-437b-b966-380b884afdc6",
   "metadata": {},
   "outputs": [
    {
     "name": "stdout",
     "output_type": "stream",
     "text": [
      "The Album was made in the 1980's\n"
     ]
    }
   ],
   "source": [
    "album_year = 1980\n",
    "\n",
    "if(album_year < 1980) or (album_year > 1989):\n",
    "    print(\"Album was not made in the 1980's\")\n",
    "else:\n",
    "    print(\"The Album was made in the 1980's\")\n"
   ]
  },
  {
   "cell_type": "code",
   "execution_count": 17,
   "id": "30e2c67e-3a25-4d0f-9c82-3ea2e7310595",
   "metadata": {},
   "outputs": [
    {
     "name": "stdout",
     "output_type": "stream",
     "text": [
      "Album year is not 1984\n"
     ]
    }
   ],
   "source": [
    "album_year = 1983\n",
    "\n",
    "if not (album_year == '1984'):\n",
    "    print('Album year is not 1984')\n"
   ]
  },
  {
   "cell_type": "code",
   "execution_count": 20,
   "id": "1d2577ba-3e1b-4916-af9f-0b1218038168",
   "metadata": {},
   "outputs": [
    {
     "name": "stdout",
     "output_type": "stream",
     "text": [
      "This album is Amazing!\n"
     ]
    }
   ],
   "source": [
    "#Quiz on Conditions\n",
    "#Write an if statement to determine if an album had a rating greater than 8.\n",
    "#Test it using the rating for the album \"Back in Black\" that had a rating of 8.5.\n",
    "#If the statement is true print \"This album is Amazing!\"\n",
    "\n",
    "album_rating = 8.5\n",
    "\n",
    "if (album_rating > 8):\n",
    "    print('This album is Amazing!')\n"
   ]
  },
  {
   "cell_type": "code",
   "execution_count": 21,
   "id": "25cd123d-de83-4ed6-a7fd-7c7537dd9c67",
   "metadata": {},
   "outputs": [
    {
     "name": "stdout",
     "output_type": "stream",
     "text": [
      "this album is ok\n"
     ]
    }
   ],
   "source": [
    "#Write an if-else statment that performs the following.\n",
    "#If the rating is larger than eight print \"this album is amazing\".\n",
    "#If the rating is less than or equal to 8 print \"this album is ok\".\n",
    "\n",
    "album_rating = 7\n",
    "\n",
    "if (album_rating > 8):\n",
    "    print(\"this album is amazing\")\n",
    "elif(album_rating <= 8):\n",
    "    print(\"this album is ok\")"
   ]
  },
  {
   "cell_type": "code",
   "execution_count": 22,
   "id": "51796a34-c5ec-4c40-b3d0-39332e2d201e",
   "metadata": {},
   "outputs": [
    {
     "name": "stdout",
     "output_type": "stream",
     "text": [
      "this album is already came out : 1979\n"
     ]
    }
   ],
   "source": [
    "#Write an if statement to determine if an album came out before 1980 or in the years: 1991 or 1993.\n",
    "#If the condition is true print out the year album came out.\n",
    "\n",
    "album_year = 1979\n",
    "\n",
    "if album_year < 1980 or album_year == 1991 or album_year == 1993:\n",
    "    print(\"this album is already came out :\", album_year)"
   ]
  },
  {
   "cell_type": "code",
   "execution_count": null,
   "id": "7b851581-d256-4960-a207-3339b9179854",
   "metadata": {},
   "outputs": [],
   "source": [
    "#End"
   ]
  }
 ],
 "metadata": {
  "kernelspec": {
   "display_name": "Python 3 (ipykernel)",
   "language": "python",
   "name": "python3"
  },
  "language_info": {
   "codemirror_mode": {
    "name": "ipython",
    "version": 3
   },
   "file_extension": ".py",
   "mimetype": "text/x-python",
   "name": "python",
   "nbconvert_exporter": "python",
   "pygments_lexer": "ipython3",
   "version": "3.10.7"
  }
 },
 "nbformat": 4,
 "nbformat_minor": 5
}
