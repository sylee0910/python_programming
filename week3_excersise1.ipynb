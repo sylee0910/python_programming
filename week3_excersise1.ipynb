{
 "cells": [
  {
   "cell_type": "code",
   "execution_count": null,
   "id": "2933356c-4daa-421d-86c3-c2b32bc62ea1",
   "metadata": {},
   "outputs": [],
   "source": [
    "# 이승율(2023202417)"
   ]
  },
  {
   "cell_type": "code",
   "execution_count": 1,
   "id": "a1499bc9-a83d-464a-9703-11db941b6358",
   "metadata": {},
   "outputs": [
    {
     "data": {
      "text/plain": [
       "('disco', 10, 1.2)"
      ]
     },
     "execution_count": 1,
     "metadata": {},
     "output_type": "execute_result"
    }
   ],
   "source": [
    "tuple1 = ('disco',10,1.2)\n",
    "tuple1"
   ]
  },
  {
   "cell_type": "code",
   "execution_count": 3,
   "id": "32f4ef7c-f2cc-4975-96ee-c4949b7a008f",
   "metadata": {},
   "outputs": [
    {
     "data": {
      "text/plain": [
       "tuple"
      ]
     },
     "execution_count": 3,
     "metadata": {},
     "output_type": "execute_result"
    }
   ],
   "source": [
    "type(tuple1)"
   ]
  },
  {
   "cell_type": "code",
   "execution_count": 8,
   "id": "a736c00f-c4bf-4cdb-afc0-84d54a297d98",
   "metadata": {},
   "outputs": [
    {
     "name": "stdout",
     "output_type": "stream",
     "text": [
      "disco\n",
      "10\n",
      "1.2\n"
     ]
    }
   ],
   "source": [
    "print(tuple1[0])\n",
    "print(tuple1[1])\n",
    "print(tuple1[2])"
   ]
  },
  {
   "cell_type": "code",
   "execution_count": 9,
   "id": "e94d2f44-daf9-4ca6-b4c4-2eb9cea50731",
   "metadata": {},
   "outputs": [
    {
     "name": "stdout",
     "output_type": "stream",
     "text": [
      "<class 'str'>\n",
      "<class 'int'>\n",
      "<class 'float'>\n"
     ]
    }
   ],
   "source": [
    "print(type(tuple1[0]))\n",
    "print(type(tuple1[1]))\n",
    "print(type(tuple1[2]))"
   ]
  },
  {
   "cell_type": "code",
   "execution_count": 11,
   "id": "66339ff2-811b-4760-be61-a695ebef1e86",
   "metadata": {},
   "outputs": [
    {
     "name": "stdout",
     "output_type": "stream",
     "text": [
      "1.2\n",
      "10\n",
      "disco\n"
     ]
    }
   ],
   "source": [
    "print(tuple1[-1])\n",
    "print(tuple1[-2])\n",
    "print(tuple1[-3])"
   ]
  },
  {
   "cell_type": "code",
   "execution_count": 12,
   "id": "1d5af01d-b766-4dee-bd5d-0ec1ccbb4a23",
   "metadata": {},
   "outputs": [
    {
     "data": {
      "text/plain": [
       "('disco', 10, 1.2, 'hard rock', 10)"
      ]
     },
     "execution_count": 12,
     "metadata": {},
     "output_type": "execute_result"
    }
   ],
   "source": [
    "tuple2 = tuple1 + ('hard rock',10)\n",
    "tuple2"
   ]
  },
  {
   "cell_type": "code",
   "execution_count": 13,
   "id": "634a2a36-4a86-4cae-8a48-127b9514589d",
   "metadata": {},
   "outputs": [
    {
     "data": {
      "text/plain": [
       "5"
      ]
     },
     "execution_count": 13,
     "metadata": {},
     "output_type": "execute_result"
    }
   ],
   "source": [
    "len(tuple2)"
   ]
  },
  {
   "cell_type": "code",
   "execution_count": 14,
   "id": "54c78d3d-8267-4d58-b94f-4e90f113b44d",
   "metadata": {},
   "outputs": [
    {
     "data": {
      "text/plain": [
       "('disco', 10, 1.2, 'hard rock', 10)"
      ]
     },
     "execution_count": 14,
     "metadata": {},
     "output_type": "execute_result"
    }
   ],
   "source": [
    "tuple2[0:5]"
   ]
  },
  {
   "cell_type": "code",
   "execution_count": 16,
   "id": "4c371eda-896e-4cef-9bc1-ad237b5701cb",
   "metadata": {},
   "outputs": [
    {
     "data": {
      "text/plain": [
       "tuple"
      ]
     },
     "execution_count": 16,
     "metadata": {},
     "output_type": "execute_result"
    }
   ],
   "source": [
    "tuple3 = tuple2[3:5]\n",
    "type(tuple3)"
   ]
  },
  {
   "cell_type": "code",
   "execution_count": 17,
   "id": "f6137225-e814-497b-9aca-cc3c7c6f9438",
   "metadata": {},
   "outputs": [
    {
     "name": "stdout",
     "output_type": "stream",
     "text": [
      "('hard rock', 10)\n"
     ]
    }
   ],
   "source": [
    "print(tuple3)"
   ]
  },
  {
   "cell_type": "code",
   "execution_count": 18,
   "id": "6ccf1e4e-1624-4ef5-8c5e-0c76c2ade2a1",
   "metadata": {},
   "outputs": [
    {
     "data": {
      "text/plain": [
       "5"
      ]
     },
     "execution_count": 18,
     "metadata": {},
     "output_type": "execute_result"
    }
   ],
   "source": [
    "len(tuple2)"
   ]
  },
  {
   "cell_type": "code",
   "execution_count": 19,
   "id": "46f4ac7d-2caf-4fc9-a0e4-85a9e1906e77",
   "metadata": {},
   "outputs": [
    {
     "data": {
      "text/plain": [
       "2"
      ]
     },
     "execution_count": 19,
     "metadata": {},
     "output_type": "execute_result"
    }
   ],
   "source": [
    "len(tuple3)"
   ]
  },
  {
   "cell_type": "code",
   "execution_count": 20,
   "id": "32ce53f6-0242-4a59-bbb4-920d9ed14fc9",
   "metadata": {},
   "outputs": [],
   "source": [
    "Ratings = (0,9,6,5,10,8,9,6,2)"
   ]
  },
  {
   "cell_type": "code",
   "execution_count": 21,
   "id": "e9560347-6d16-4e0d-8643-8dfea9dcbcc9",
   "metadata": {},
   "outputs": [
    {
     "data": {
      "text/plain": [
       "[0, 2, 5, 6, 6, 8, 9, 9, 10]"
      ]
     },
     "execution_count": 21,
     "metadata": {},
     "output_type": "execute_result"
    }
   ],
   "source": [
    "RatingsSorted = sorted(Ratings)\n",
    "RatingsSorted"
   ]
  },
  {
   "cell_type": "code",
   "execution_count": 22,
   "id": "e8b216c7-4611-43f6-a575-866ad22203c8",
   "metadata": {},
   "outputs": [],
   "source": [
    "NestedT = (1,2,('pop','rock'),(3,4),('disco',(1,2)))"
   ]
  },
  {
   "cell_type": "code",
   "execution_count": 23,
   "id": "74844d01-a15d-4e76-ad20-9897189264c2",
   "metadata": {},
   "outputs": [
    {
     "name": "stdout",
     "output_type": "stream",
     "text": [
      "element 0 of tuple:  1\n",
      "element 0 of tuple:  2\n",
      "element 0 of tuple:  ('pop', 'rock')\n",
      "element 0 of tuple:  (3, 4)\n",
      "element 0 of tuple:  ('disco', (1, 2))\n"
     ]
    }
   ],
   "source": [
    "print('element 0 of tuple: ', NestedT[0])\n",
    "print('element 0 of tuple: ', NestedT[1])\n",
    "print('element 0 of tuple: ', NestedT[2])\n",
    "print('element 0 of tuple: ', NestedT[3])\n",
    "print('element 0 of tuple: ', NestedT[4])"
   ]
  },
  {
   "cell_type": "code",
   "execution_count": 24,
   "id": "6aa507e9-1083-401c-97a8-491186cbd143",
   "metadata": {},
   "outputs": [
    {
     "name": "stdout",
     "output_type": "stream",
     "text": [
      "element 2,0 of tuple:  pop\n",
      "element 2,1 of tuple:  rock\n",
      "element 3,0 of tuple:  3\n",
      "element 3,1 of tuple:  4\n",
      "element 4,0 of tuple:  disco\n",
      "element 4,1 of tuple:  (1, 2)\n"
     ]
    }
   ],
   "source": [
    "print('element 2,0 of tuple: ', NestedT[2][0])\n",
    "print('element 2,1 of tuple: ', NestedT[2][1])\n",
    "print('element 3,0 of tuple: ', NestedT[3][0])\n",
    "print('element 3,1 of tuple: ', NestedT[3][1])\n",
    "print('element 4,0 of tuple: ', NestedT[4][0])\n",
    "print('element 4,1 of tuple: ', NestedT[4][1])"
   ]
  },
  {
   "cell_type": "code",
   "execution_count": 25,
   "id": "ee3d0bd1-2fb5-480d-b12c-01854b64f1ab",
   "metadata": {},
   "outputs": [
    {
     "data": {
      "text/plain": [
       "'r'"
      ]
     },
     "execution_count": 25,
     "metadata": {},
     "output_type": "execute_result"
    }
   ],
   "source": [
    "NestedT[2][1][0]"
   ]
  },
  {
   "cell_type": "code",
   "execution_count": 26,
   "id": "520af7d1-754d-4b0b-89eb-d902ad045f8a",
   "metadata": {},
   "outputs": [
    {
     "data": {
      "text/plain": [
       "'o'"
      ]
     },
     "execution_count": 26,
     "metadata": {},
     "output_type": "execute_result"
    }
   ],
   "source": [
    "NestedT[2][1][1]"
   ]
  },
  {
   "cell_type": "code",
   "execution_count": 27,
   "id": "4037cd29-b2d0-4f3b-8f2d-d4ca817a21a2",
   "metadata": {},
   "outputs": [
    {
     "data": {
      "text/plain": [
       "1"
      ]
     },
     "execution_count": 27,
     "metadata": {},
     "output_type": "execute_result"
    }
   ],
   "source": [
    "NestedT[4][1][0]"
   ]
  },
  {
   "cell_type": "code",
   "execution_count": 28,
   "id": "67672ede-05dd-432b-931d-b6ee8605bb48",
   "metadata": {},
   "outputs": [
    {
     "data": {
      "text/plain": [
       "2"
      ]
     },
     "execution_count": 28,
     "metadata": {},
     "output_type": "execute_result"
    }
   ],
   "source": [
    "NestedT[4][1][1]"
   ]
  },
  {
   "cell_type": "code",
   "execution_count": 29,
   "id": "a11a6f0d-f1a6-425d-80c5-09d7d0223b83",
   "metadata": {},
   "outputs": [
    {
     "data": {
      "text/plain": [
       "('pop',\n",
       " 'rock',\n",
       " 'soul',\n",
       " 'hard rock',\n",
       " 'soft rock',\n",
       " 'r&b',\n",
       " 'progressive rock',\n",
       " 'disco')"
      ]
     },
     "execution_count": 29,
     "metadata": {},
     "output_type": "execute_result"
    }
   ],
   "source": [
    "#Quiz On Tuples\n",
    "\n",
    "genres_tuple = ('pop','rock','soul','hard rock','soft rock',\\\n",
    "                'r&b','progressive rock','disco')\n",
    "genres_tuple"
   ]
  },
  {
   "cell_type": "code",
   "execution_count": 30,
   "id": "a88028a6-b0f2-46d6-809b-49b37ceae764",
   "metadata": {},
   "outputs": [
    {
     "data": {
      "text/plain": [
       "8"
      ]
     },
     "execution_count": 30,
     "metadata": {},
     "output_type": "execute_result"
    }
   ],
   "source": [
    "#Find the length of the tuple, genres_tuple:\n",
    "len(genres_tuple)"
   ]
  },
  {
   "cell_type": "code",
   "execution_count": 31,
   "id": "758d23c2-8b33-459b-bd1e-caec5996aa5f",
   "metadata": {},
   "outputs": [
    {
     "data": {
      "text/plain": [
       "'hard rock'"
      ]
     },
     "execution_count": 31,
     "metadata": {},
     "output_type": "execute_result"
    }
   ],
   "source": [
    "#Access the element, with respect to index 3:\n",
    "genres_tuple[3]"
   ]
  },
  {
   "cell_type": "code",
   "execution_count": 32,
   "id": "858ee2e8-5969-4e54-ab63-5fbfb7a28062",
   "metadata": {},
   "outputs": [
    {
     "data": {
      "text/plain": [
       "('hard rock', 'soft rock', 'r&b')"
      ]
     },
     "execution_count": 32,
     "metadata": {},
     "output_type": "execute_result"
    }
   ],
   "source": [
    "#Use slicing to obtain indexes 3,4 and 5:\n",
    "genres_tuple[3:6]"
   ]
  },
  {
   "cell_type": "code",
   "execution_count": 33,
   "id": "fc0ef5a8-b41d-4bd5-82e3-5a686053b465",
   "metadata": {},
   "outputs": [
    {
     "data": {
      "text/plain": [
       "('pop', 'rock')"
      ]
     },
     "execution_count": 33,
     "metadata": {},
     "output_type": "execute_result"
    }
   ],
   "source": [
    "#Find the first two elements of the tuple genres_tuple:\n",
    "genres_tuple[0:2]"
   ]
  },
  {
   "cell_type": "code",
   "execution_count": 34,
   "id": "6c25b009-a848-41d7-81ad-c4c505eff3e6",
   "metadata": {},
   "outputs": [
    {
     "data": {
      "text/plain": [
       "7"
      ]
     },
     "execution_count": 34,
     "metadata": {},
     "output_type": "execute_result"
    }
   ],
   "source": [
    "#Find the first index of 'disco':\n",
    "genres_tuple.index('disco')"
   ]
  },
  {
   "cell_type": "code",
   "execution_count": 35,
   "id": "b4afea03-0d96-4c07-8321-b7763baecd0a",
   "metadata": {},
   "outputs": [
    {
     "data": {
      "text/plain": [
       "[-5, -3, 1]"
      ]
     },
     "execution_count": 35,
     "metadata": {},
     "output_type": "execute_result"
    }
   ],
   "source": [
    "#Generate a sorted List from the Tuple C_tuple=(-5,1,-3):\n",
    "C_tuple=(-5,1,-3)\n",
    "C_tupleSorted = sorted(C_tuple)\n",
    "C_tupleSorted"
   ]
  },
  {
   "cell_type": "code",
   "execution_count": null,
   "id": "b2a22a2d-2b97-4979-bcc9-95b05686556b",
   "metadata": {},
   "outputs": [],
   "source": [
    "#End"
   ]
  }
 ],
 "metadata": {
  "kernelspec": {
   "display_name": "Python 3 (ipykernel)",
   "language": "python",
   "name": "python3"
  },
  "language_info": {
   "codemirror_mode": {
    "name": "ipython",
    "version": 3
   },
   "file_extension": ".py",
   "mimetype": "text/x-python",
   "name": "python",
   "nbconvert_exporter": "python",
   "pygments_lexer": "ipython3",
   "version": "3.10.7"
  }
 },
 "nbformat": 4,
 "nbformat_minor": 5
}
