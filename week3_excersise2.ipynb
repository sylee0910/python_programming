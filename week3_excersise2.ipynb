{
 "cells": [
  {
   "cell_type": "code",
   "execution_count": null,
   "id": "65a6b617-e605-4f27-8e24-29a378000c53",
   "metadata": {},
   "outputs": [],
   "source": [
    "# 이승율(2023202417)"
   ]
  },
  {
   "cell_type": "code",
   "execution_count": 1,
   "id": "952a9104-edd6-4eed-9940-fa127175981b",
   "metadata": {},
   "outputs": [
    {
     "data": {
      "text/plain": [
       "['Michael Jackson', 10.1, 1992]"
      ]
     },
     "execution_count": 1,
     "metadata": {},
     "output_type": "execute_result"
    }
   ],
   "source": [
    "L = ['Michael Jackson',10.1,1992]\n",
    "L"
   ]
  },
  {
   "cell_type": "code",
   "execution_count": 2,
   "id": "2317c8ff-b19e-4357-8263-d0cef677064f",
   "metadata": {},
   "outputs": [
    {
     "data": {
      "text/plain": [
       "list"
      ]
     },
     "execution_count": 2,
     "metadata": {},
     "output_type": "execute_result"
    }
   ],
   "source": [
    "type(L)"
   ]
  },
  {
   "cell_type": "code",
   "execution_count": 3,
   "id": "a88edd65-739f-46c0-b69b-8c5dbee0adad",
   "metadata": {},
   "outputs": [
    {
     "data": {
      "text/plain": [
       "int"
      ]
     },
     "execution_count": 3,
     "metadata": {},
     "output_type": "execute_result"
    }
   ],
   "source": [
    "type(L[2])"
   ]
  },
  {
   "cell_type": "code",
   "execution_count": 5,
   "id": "9a52f718-b225-432e-9bfe-4333bc3f0047",
   "metadata": {},
   "outputs": [
    {
     "name": "stdout",
     "output_type": "stream",
     "text": [
      "the same element using negative and positive indexing:\n",
      " Positive:  Michael Jackson \n",
      " Negative:  Michael Jackson\n",
      "the same element using negative and positive indexing:\n",
      " Positive:  10.1 \n",
      " Negative:  10.1\n",
      "the same element using negative and positive indexing:\n",
      " Positive:  1992 \n",
      " Negative:  1992\n"
     ]
    }
   ],
   "source": [
    "print('the same element using negative and positive indexing:\\n Positive: ',L[0],'\\n Negative: ',L[-3])\n",
    "print('the same element using negative and positive indexing:\\n Positive: ',L[1],'\\n Negative: ',L[-2])\n",
    "print('the same element using negative and positive indexing:\\n Positive: ',L[2],'\\n Negative: ',L[-1])"
   ]
  },
  {
   "cell_type": "code",
   "execution_count": 7,
   "id": "c7c07c42-4d20-496f-b456-c75f4e7195f3",
   "metadata": {},
   "outputs": [
    {
     "name": "stdout",
     "output_type": "stream",
     "text": [
      "before L1[0] changed ['Michael Jackson', 10.1, 1982, [1, 2], ('A', 1)]\n",
      "after L1[0] changed ['Janet', 10.1, 1982, [1, 2], ('A', 1)]\n"
     ]
    }
   ],
   "source": [
    "L1 = ['Michael Jackson',10.1,1982,[1,2],('A',1)]\n",
    "print('before L1[0] changed', L1)\n",
    "L1[0] = 'Janet'\n",
    "print('after L1[0] changed', L1)"
   ]
  },
  {
   "cell_type": "code",
   "execution_count": 9,
   "id": "06fb4d56-e460-4ff4-8e4d-1cf64ad34bb1",
   "metadata": {},
   "outputs": [
    {
     "ename": "TypeError",
     "evalue": "'tuple' object does not support item assignment",
     "output_type": "error",
     "traceback": [
      "\u001b[1;31m---------------------------------------------------------------------------\u001b[0m",
      "\u001b[1;31mTypeError\u001b[0m                                 Traceback (most recent call last)",
      "Cell \u001b[1;32mIn [9], line 3\u001b[0m\n\u001b[0;32m      1\u001b[0m Tuple1 \u001b[38;5;241m=\u001b[39m (\u001b[38;5;124m'\u001b[39m\u001b[38;5;124mMichael Jackson\u001b[39m\u001b[38;5;124m'\u001b[39m,\u001b[38;5;241m10.1\u001b[39m,\u001b[38;5;241m1982\u001b[39m)\n\u001b[0;32m      2\u001b[0m Tuple1\n\u001b[1;32m----> 3\u001b[0m \u001b[43mTuple1\u001b[49m\u001b[43m[\u001b[49m\u001b[38;5;241;43m0\u001b[39;49m\u001b[43m]\u001b[49m \u001b[38;5;241m=\u001b[39m \u001b[38;5;124m'\u001b[39m\u001b[38;5;124mJanet\u001b[39m\u001b[38;5;124m'\u001b[39m\n",
      "\u001b[1;31mTypeError\u001b[0m: 'tuple' object does not support item assignment"
     ]
    }
   ],
   "source": [
    "Tuple1 = ('Michael Jackson',10.1,1982)\n",
    "Tuple1\n",
    "Tuple1[0] = 'Janet'"
   ]
  },
  {
   "cell_type": "code",
   "execution_count": 10,
   "id": "20d1e6b3-5141-4ed9-929a-9448fd997701",
   "metadata": {},
   "outputs": [
    {
     "data": {
      "text/plain": [
       "['Michael Jackson', 10.1, 1982, 'MJ', 1]"
      ]
     },
     "execution_count": 10,
     "metadata": {},
     "output_type": "execute_result"
    }
   ],
   "source": [
    "L = ['Michael Jackson',10.1,1982,'MJ',1]\n",
    "L"
   ]
  },
  {
   "cell_type": "code",
   "execution_count": 11,
   "id": "e637adec-795e-4f13-83dc-54d76d644df9",
   "metadata": {},
   "outputs": [
    {
     "data": {
      "text/plain": [
       "['MJ', 1]"
      ]
     },
     "execution_count": 11,
     "metadata": {},
     "output_type": "execute_result"
    }
   ],
   "source": [
    "L[3:5]"
   ]
  },
  {
   "cell_type": "code",
   "execution_count": 13,
   "id": "99076b20-6dba-4c6a-ab10-1cf280db91f4",
   "metadata": {},
   "outputs": [
    {
     "data": {
      "text/plain": [
       "['Michael Jackson', 10.2, 'pop', 10]"
      ]
     },
     "execution_count": 13,
     "metadata": {},
     "output_type": "execute_result"
    }
   ],
   "source": [
    "L = ['Michael Jackson',10.2]\n",
    "L.extend(['pop',10])\n",
    "L"
   ]
  },
  {
   "cell_type": "code",
   "execution_count": 14,
   "id": "e7d3a261-5f11-46e3-8b5d-a76176d88877",
   "metadata": {},
   "outputs": [
    {
     "data": {
      "text/plain": [
       "10"
      ]
     },
     "execution_count": 14,
     "metadata": {},
     "output_type": "execute_result"
    }
   ],
   "source": [
    "L[3]"
   ]
  },
  {
   "cell_type": "code",
   "execution_count": 17,
   "id": "8245fca7-c263-4fcb-b355-8456de69114e",
   "metadata": {},
   "outputs": [
    {
     "data": {
      "text/plain": [
       "['Michael Jackson', 10.2, ['pop', 10]]"
      ]
     },
     "execution_count": 17,
     "metadata": {},
     "output_type": "execute_result"
    }
   ],
   "source": [
    "L = ['Michael Jackson',10.2]\n",
    "L.append(['pop',10])\n",
    "L"
   ]
  },
  {
   "cell_type": "code",
   "execution_count": 18,
   "id": "79249fda-1f44-456f-8db3-38c0c17f3cbf",
   "metadata": {},
   "outputs": [
    {
     "data": {
      "text/plain": [
       "'pop'"
      ]
     },
     "execution_count": 18,
     "metadata": {},
     "output_type": "execute_result"
    }
   ],
   "source": [
    "L[2][0]"
   ]
  },
  {
   "cell_type": "code",
   "execution_count": 19,
   "id": "73d59b33-a4fe-47b6-9bca-d9f00f9a6fdc",
   "metadata": {},
   "outputs": [
    {
     "name": "stdout",
     "output_type": "stream",
     "text": [
      "Before change:  ['Michael Jackson', 10.2, 'pop', 10, ['a', 'b']]\n",
      "After change:  [10.2, 'pop', 10, ['a', 'b']]\n"
     ]
    }
   ],
   "source": [
    "A = ['Michael Jackson',10.2,'pop',10,['a','b']]\n",
    "print('Before change: ', A)\n",
    "del(A[0])\n",
    "print('After change: ', A)"
   ]
  },
  {
   "cell_type": "code",
   "execution_count": 21,
   "id": "984dd8ed-1148-4481-8e72-9d08572ff9b4",
   "metadata": {},
   "outputs": [],
   "source": [
    "A = ['Michael Jackson',10.2,'pop',10]"
   ]
  },
  {
   "cell_type": "code",
   "execution_count": 22,
   "id": "9670ff52-71d8-4298-a901-f255bc08777d",
   "metadata": {},
   "outputs": [
    {
     "name": "stdout",
     "output_type": "stream",
     "text": [
      "['hard', 'rock']\n"
     ]
    },
    {
     "data": {
      "text/plain": [
       "'rock'"
      ]
     },
     "execution_count": 22,
     "metadata": {},
     "output_type": "execute_result"
    }
   ],
   "source": [
    "what = 'hard rock'.split()\n",
    "print(what)\n",
    "type(what)\n",
    "what[1]"
   ]
  },
  {
   "cell_type": "code",
   "execution_count": 23,
   "id": "605a4a7c-9e15-4960-94c9-ad106508bdbb",
   "metadata": {},
   "outputs": [
    {
     "data": {
      "text/plain": [
       "list"
      ]
     },
     "execution_count": 23,
     "metadata": {},
     "output_type": "execute_result"
    }
   ],
   "source": [
    "type(what)"
   ]
  },
  {
   "cell_type": "code",
   "execution_count": 24,
   "id": "55625620-0ee7-4df7-aba2-2172625c2d8a",
   "metadata": {},
   "outputs": [
    {
     "data": {
      "text/plain": [
       "'A'"
      ]
     },
     "execution_count": 24,
     "metadata": {},
     "output_type": "execute_result"
    }
   ],
   "source": [
    "from re import split\n",
    "\n",
    "Split_string_comma='A,B,C,D'.split(',')\n",
    "Split_string_comma\n",
    "type(Split_string_comma)\n",
    "Split_string_comma[0]"
   ]
  },
  {
   "cell_type": "code",
   "execution_count": 25,
   "id": "f9543ac6-e5e1-462a-82e7-b2f230909ba1",
   "metadata": {},
   "outputs": [
    {
     "name": "stdout",
     "output_type": "stream",
     "text": [
      "A:  ['r&b', 10, 1.2]\n",
      "B:  ['r&b', 10, 1.2]\n"
     ]
    }
   ],
   "source": [
    "A = ['hard rock',10,1.2]\n",
    "B = A\n",
    "\n",
    "A[0] = 'r&b'\n",
    "\n",
    "print('A: ', A)\n",
    "print('B: ', B)"
   ]
  },
  {
   "cell_type": "code",
   "execution_count": 26,
   "id": "5fe1a481-df38-499a-ba3d-400c3af90a4e",
   "metadata": {},
   "outputs": [
    {
     "name": "stdout",
     "output_type": "stream",
     "text": [
      "B[0]:  r&b\n",
      "B[0]:  banana\n"
     ]
    }
   ],
   "source": [
    "print('B[0]: ', B[0])\n",
    "A[0] = 'banana'\n",
    "print('B[0]: ', B[0])"
   ]
  },
  {
   "cell_type": "code",
   "execution_count": 27,
   "id": "69bff899-366a-4d04-b434-58d13cc273e5",
   "metadata": {},
   "outputs": [
    {
     "name": "stdout",
     "output_type": "stream",
     "text": [
      "['hard rock', 10, 1.2]\n",
      "['hard rock', 10, 1.2]\n"
     ]
    }
   ],
   "source": [
    "A = ['hard rock',10,1.2]\n",
    "B = A[:]\n",
    "print(A)\n",
    "print(B)"
   ]
  },
  {
   "cell_type": "code",
   "execution_count": 28,
   "id": "4908d2af-60a7-4720-9192-8a50c62f74d0",
   "metadata": {},
   "outputs": [
    {
     "name": "stdout",
     "output_type": "stream",
     "text": [
      "['r&b', 10, 1.2]\n",
      "['hard rock', 10, 1.2]\n"
     ]
    }
   ],
   "source": [
    "A[0] = 'r&b'\n",
    "print(A)\n",
    "print(B)"
   ]
  },
  {
   "cell_type": "code",
   "execution_count": 29,
   "id": "51372c37-a105-439c-9eee-9c5f4db234f6",
   "metadata": {},
   "outputs": [
    {
     "name": "stdout",
     "output_type": "stream",
     "text": [
      "<class 'list'>\n",
      "[1, 'hello', [1, 2, 3], True]\n"
     ]
    }
   ],
   "source": [
    "#Quiz on LIst\n",
    "#Create a list a_list, with the following elements 1,hello,[1,2,3] and True\n",
    "\n",
    "a_list = [1,'hello',[1,2,3],True]\n",
    "print(type(a_list))\n",
    "print(a_list)"
   ]
  },
  {
   "cell_type": "code",
   "execution_count": 30,
   "id": "4acd4b98-0774-43b9-8c85-7ecc5bb6cace",
   "metadata": {},
   "outputs": [
    {
     "data": {
      "text/plain": [
       "'hello'"
      ]
     },
     "execution_count": 30,
     "metadata": {},
     "output_type": "execute_result"
    }
   ],
   "source": [
    "#Find the value stored at index 1 of a_list:\n",
    "a_list[1]"
   ]
  },
  {
   "cell_type": "code",
   "execution_count": 31,
   "id": "1f1f062c-29c5-42b5-9205-5d5aaa277997",
   "metadata": {},
   "outputs": [
    {
     "data": {
      "text/plain": [
       "['hello', [1, 2, 3], True]"
      ]
     },
     "execution_count": 31,
     "metadata": {},
     "output_type": "execute_result"
    }
   ],
   "source": [
    "#Retrieve the elements stored at index 1,2 and 3 of a_list:\n",
    "a_list[1:4]"
   ]
  },
  {
   "cell_type": "code",
   "execution_count": 32,
   "id": "78270840-3768-4159-abb7-2c2b5d218a9a",
   "metadata": {},
   "outputs": [
    {
     "data": {
      "text/plain": [
       "[1, 'a', 2, 1, 'd']"
      ]
     },
     "execution_count": 32,
     "metadata": {},
     "output_type": "execute_result"
    }
   ],
   "source": [
    "#Concatenate the following lists A = [1,'a'] and B = [2,1,'d']:\n",
    "A = [1,'a']\n",
    "B = [2,1,'d']\n",
    "A + B"
   ]
  },
  {
   "cell_type": "code",
   "execution_count": 40,
   "id": "ee5fcfe0-3977-4998-b192-8a8c855b130b",
   "metadata": {},
   "outputs": [
    {
     "data": {
      "text/plain": [
       "[1, 'a', 2, 1, 'd']"
      ]
     },
     "execution_count": 40,
     "metadata": {},
     "output_type": "execute_result"
    }
   ],
   "source": [
    "A = [1,'a']\n",
    "A.extend([2,1,'d'])\n",
    "A"
   ]
  },
  {
   "cell_type": "code",
   "execution_count": 41,
   "id": "2691ab95-4701-4343-bbbb-7559b2427dc3",
   "metadata": {},
   "outputs": [
    {
     "data": {
      "text/plain": [
       "[1, 'a', [2, 1, 'd']]"
      ]
     },
     "execution_count": 41,
     "metadata": {},
     "output_type": "execute_result"
    }
   ],
   "source": [
    "A = [1,'a']\n",
    "A.append([2,1,'d'])\n",
    "A"
   ]
  },
  {
   "cell_type": "code",
   "execution_count": null,
   "id": "91db60b3-1ff1-4525-81d0-b736a8f429ab",
   "metadata": {},
   "outputs": [],
   "source": [
    "#End"
   ]
  }
 ],
 "metadata": {
  "kernelspec": {
   "display_name": "Python 3 (ipykernel)",
   "language": "python",
   "name": "python3"
  },
  "language_info": {
   "codemirror_mode": {
    "name": "ipython",
    "version": 3
   },
   "file_extension": ".py",
   "mimetype": "text/x-python",
   "name": "python",
   "nbconvert_exporter": "python",
   "pygments_lexer": "ipython3",
   "version": "3.10.7"
  }
 },
 "nbformat": 4,
 "nbformat_minor": 5
}
