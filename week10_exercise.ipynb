{
 "cells": [
  {
   "cell_type": "code",
   "execution_count": null,
   "id": "04151a06-736b-4913-80f9-32bf4c64bc6a",
   "metadata": {},
   "outputs": [],
   "source": [
    "# 이승율(2023202417)"
   ]
  },
  {
   "cell_type": "code",
   "execution_count": null,
   "id": "e252fcbf-c186-4ff9-abde-deb62dacfdd6",
   "metadata": {},
   "outputs": [],
   "source": [
    "# Week10"
   ]
  },
  {
   "cell_type": "code",
   "execution_count": null,
   "id": "324e6dea-cc6b-4517-ae72-1bd552414147",
   "metadata": {},
   "outputs": [],
   "source": [
    "# (p11) Class"
   ]
  },
  {
   "cell_type": "code",
   "execution_count": 1,
   "id": "c85db129-4ff6-4aa4-ac67-518bcba6e97a",
   "metadata": {},
   "outputs": [
    {
     "name": "stdout",
     "output_type": "stream",
     "text": [
      "3\n",
      "7\n"
     ]
    }
   ],
   "source": [
    "result = 0\n",
    "\n",
    "def adder(num):\n",
    "    global result\n",
    "    result += num\n",
    "    return result\n",
    "\n",
    "print(adder(3))\n",
    "print(adder(4))"
   ]
  },
  {
   "cell_type": "code",
   "execution_count": 2,
   "id": "0cea3006-edff-4d99-93c0-03d2245a0f72",
   "metadata": {},
   "outputs": [
    {
     "name": "stdout",
     "output_type": "stream",
     "text": [
      "11\n",
      "16\n"
     ]
    }
   ],
   "source": [
    "print(adder(4))\n",
    "print(adder(5))"
   ]
  },
  {
   "cell_type": "code",
   "execution_count": 3,
   "id": "e4da8ed7-c55b-4511-8c24-dd4fa5e3d504",
   "metadata": {},
   "outputs": [
    {
     "name": "stdout",
     "output_type": "stream",
     "text": [
      "3\n",
      "7\n",
      "3\n",
      "10\n"
     ]
    }
   ],
   "source": [
    "# (p12) Class\n",
    "\n",
    "result1 = 0\n",
    "result2 = 0\n",
    "\n",
    "def adder1(num):\n",
    "    global result1\n",
    "    result1 += num\n",
    "    return result1\n",
    "\n",
    "def adder2(num):\n",
    "    global result2\n",
    "    result2 += num\n",
    "    return result2\n",
    "\n",
    "print(adder1(3))\n",
    "print(adder1(4))\n",
    "print(adder2(3))\n",
    "print(adder2(7))"
   ]
  },
  {
   "cell_type": "code",
   "execution_count": 4,
   "id": "2c783b54-9005-4f68-bd65-72ad84b30185",
   "metadata": {},
   "outputs": [
    {
     "name": "stdout",
     "output_type": "stream",
     "text": [
      "3\n",
      "7\n",
      "3\n",
      "10\n"
     ]
    }
   ],
   "source": [
    "# (p13) Class\n",
    "\n",
    "class Calculator:\n",
    "    def __init__(self):\n",
    "        self.result = 0\n",
    "        \n",
    "    def adder(self, num):\n",
    "        self.result += num\n",
    "        return self.result\n",
    "\n",
    "cal1 = Calculator()\n",
    "cal2 = Calculator()\n",
    "\n",
    "print(cal1.adder(3))\n",
    "print(cal1.adder(4))\n",
    "print(cal2.adder(3))\n",
    "print(cal2.adder(7))"
   ]
  },
  {
   "cell_type": "code",
   "execution_count": 5,
   "id": "0d2a9065-5c57-48dd-b17e-5d18b675ba4c",
   "metadata": {},
   "outputs": [
    {
     "data": {
      "text/plain": [
       "'지구멸망 3000년 전'"
      ]
     },
     "execution_count": 5,
     "metadata": {},
     "output_type": "execute_result"
    }
   ],
   "source": [
    "# (p14-15) Obejct & Instance\n",
    "\n",
    "class Service:\n",
    "    secret = '지구멸망 3000년 전'\n",
    "\n",
    "an = Service()\n",
    "an.secret"
   ]
  },
  {
   "cell_type": "code",
   "execution_count": 6,
   "id": "acd4ccb5-04ad-4074-9189-719bc637de12",
   "metadata": {},
   "outputs": [
    {
     "data": {
      "text/plain": [
       "'지구멸망 3000년 전'"
      ]
     },
     "execution_count": 6,
     "metadata": {},
     "output_type": "execute_result"
    }
   ],
   "source": [
    "# (p16) Obejct & Instance\n",
    "\n",
    "Service.secret"
   ]
  },
  {
   "cell_type": "code",
   "execution_count": 7,
   "id": "18adf631-d36a-473b-8f81-eb91981b6d40",
   "metadata": {},
   "outputs": [
    {
     "name": "stdout",
     "output_type": "stream",
     "text": [
      "만우절이었습니다\n"
     ]
    }
   ],
   "source": [
    "Service.secret = '만우절이었습니다'\n",
    "\n",
    "print(an.secret)"
   ]
  },
  {
   "cell_type": "code",
   "execution_count": 9,
   "id": "b01bdd87-9846-40d4-a047-b397bf89b4a5",
   "metadata": {},
   "outputs": [
    {
     "name": "stdout",
     "output_type": "stream",
     "text": [
      "1 + 1 = 2 이다\n"
     ]
    }
   ],
   "source": [
    "# (p17) Obejct & Instance\n",
    "\n",
    "class Service:\n",
    "    secret = '지구멸망 3000년 전'\n",
    "    def sum(self, a, b):\n",
    "        result = a + b\n",
    "        print('%s + %s = %s 이다' % (a, b, result))\n",
    "    \n",
    "an = Service()\n",
    "an.sum(1,1)"
   ]
  },
  {
   "cell_type": "code",
   "execution_count": 10,
   "id": "50b260d9-0c84-489c-ace1-d667ce2bd63d",
   "metadata": {},
   "outputs": [
    {
     "data": {
      "text/plain": [
       "'지구멸망 3000년 전'"
      ]
     },
     "execution_count": 10,
     "metadata": {},
     "output_type": "execute_result"
    }
   ],
   "source": [
    "an.secret"
   ]
  },
  {
   "cell_type": "code",
   "execution_count": 12,
   "id": "81eee822-24d9-436f-a154-de97719c7544",
   "metadata": {},
   "outputs": [
    {
     "name": "stdout",
     "output_type": "stream",
     "text": [
      "파스쿠치 님, 1 + 1 = 2 입니다.\n"
     ]
    }
   ],
   "source": [
    "# (p19) Obejct variable\n",
    "\n",
    "class Service:\n",
    "    secret = '지구멸망 3000년 전'\n",
    "    def setname(self, name):\n",
    "        self.name = name\n",
    "    def sum(self, a, b):\n",
    "        result = a + b\n",
    "        print('%s 님, %s + %s = %s 입니다.' % (self.name, a, b, result))\n",
    "\n",
    "an = Service()\n",
    "an.setname('파스쿠치')\n",
    "an.sum(1,1)"
   ]
  },
  {
   "cell_type": "code",
   "execution_count": 13,
   "id": "b5c2a095-1dc4-4044-a9da-ae0d719c395d",
   "metadata": {},
   "outputs": [
    {
     "name": "stdout",
     "output_type": "stream",
     "text": [
      "김씨\n",
      "박씨\n"
     ]
    }
   ],
   "source": [
    "# (p20) Class variable & Obejct variable\n",
    "\n",
    "kim = Service()\n",
    "park = Service()\n",
    "kim.name = '김씨'\n",
    "park.name = '박씨'\n",
    "\n",
    "print(kim.name)\n",
    "print(park.name)"
   ]
  },
  {
   "cell_type": "code",
   "execution_count": 14,
   "id": "413dacd3-f737-4f73-9e49-dc5e20ae3166",
   "metadata": {},
   "outputs": [
    {
     "name": "stdout",
     "output_type": "stream",
     "text": [
      "지구멸망 3000년 전\n",
      "no secret\n"
     ]
    }
   ],
   "source": [
    "kim.secret = 'no secret'\n",
    "print(park.secret)\n",
    "print(kim.secret)"
   ]
  },
  {
   "cell_type": "code",
   "execution_count": 15,
   "id": "dc4005ac-d97c-41d5-8dfe-f740afcd6b61",
   "metadata": {},
   "outputs": [
    {
     "data": {
      "text/plain": [
       "'지구멸망 3000년 전'"
      ]
     },
     "execution_count": 15,
     "metadata": {},
     "output_type": "execute_result"
    }
   ],
   "source": [
    "Service.secret"
   ]
  },
  {
   "cell_type": "code",
   "execution_count": 16,
   "id": "427b6a29-8871-412e-a838-4c8b77dadd6f",
   "metadata": {},
   "outputs": [
    {
     "ename": "AttributeError",
     "evalue": "'Service' object has no attribute 'name'",
     "output_type": "error",
     "traceback": [
      "\u001b[1;31m---------------------------------------------------------------------------\u001b[0m",
      "\u001b[1;31mAttributeError\u001b[0m                            Traceback (most recent call last)",
      "Cell \u001b[1;32mIn [16], line 4\u001b[0m\n\u001b[0;32m      1\u001b[0m \u001b[38;5;66;03m# (p22) __init__\u001b[39;00m\n\u001b[0;32m      3\u001b[0m lee \u001b[38;5;241m=\u001b[39m Service()\n\u001b[1;32m----> 4\u001b[0m \u001b[43mlee\u001b[49m\u001b[38;5;241;43m.\u001b[39;49m\u001b[43msum\u001b[49m\u001b[43m(\u001b[49m\u001b[38;5;241;43m1\u001b[39;49m\u001b[43m,\u001b[49m\u001b[38;5;241;43m1\u001b[39;49m\u001b[43m)\u001b[49m\n",
      "Cell \u001b[1;32mIn [12], line 9\u001b[0m, in \u001b[0;36mService.sum\u001b[1;34m(self, a, b)\u001b[0m\n\u001b[0;32m      7\u001b[0m \u001b[38;5;28;01mdef\u001b[39;00m \u001b[38;5;21msum\u001b[39m(\u001b[38;5;28mself\u001b[39m, a, b):\n\u001b[0;32m      8\u001b[0m     result \u001b[38;5;241m=\u001b[39m a \u001b[38;5;241m+\u001b[39m b\n\u001b[1;32m----> 9\u001b[0m     \u001b[38;5;28mprint\u001b[39m(\u001b[38;5;124m'\u001b[39m\u001b[38;5;132;01m%s\u001b[39;00m\u001b[38;5;124m 님, \u001b[39m\u001b[38;5;132;01m%s\u001b[39;00m\u001b[38;5;124m + \u001b[39m\u001b[38;5;132;01m%s\u001b[39;00m\u001b[38;5;124m = \u001b[39m\u001b[38;5;132;01m%s\u001b[39;00m\u001b[38;5;124m 입니다.\u001b[39m\u001b[38;5;124m'\u001b[39m \u001b[38;5;241m%\u001b[39m (\u001b[38;5;28;43mself\u001b[39;49m\u001b[38;5;241;43m.\u001b[39;49m\u001b[43mname\u001b[49m, a, b, result))\n",
      "\u001b[1;31mAttributeError\u001b[0m: 'Service' object has no attribute 'name'"
     ]
    }
   ],
   "source": [
    "# (p22) __init__\n",
    "\n",
    "lee = Service()\n",
    "lee.sum(1,1)"
   ]
  },
  {
   "cell_type": "code",
   "execution_count": 17,
   "id": "7f1813d0-c070-4d28-8c9a-1322e335fe65",
   "metadata": {},
   "outputs": [
    {
     "name": "stdout",
     "output_type": "stream",
     "text": [
      "이씨 님, 1 + 1 = 2 입니다.\n"
     ]
    }
   ],
   "source": [
    "# (p23) __init__\n",
    "\n",
    "class Service:\n",
    "    secret = '지구멸망 3000년 전'\n",
    "    def __init__(self, name):\n",
    "        self.name = name\n",
    "    def sum(self, a, b):\n",
    "        result = a + b\n",
    "        print('%s 님, %s + %s = %s 입니다.' % (self.name, a, b, result))\n",
    "        \n",
    "an = Service('이씨')\n",
    "an.sum(1,1)"
   ]
  },
  {
   "cell_type": "code",
   "execution_count": 18,
   "id": "ba5a3b4c-5d63-4669-9508-3541f3e15987",
   "metadata": {},
   "outputs": [
    {
     "data": {
      "text/plain": [
       "__main__.FourCal"
      ]
     },
     "execution_count": 18,
     "metadata": {},
     "output_type": "execute_result"
    }
   ],
   "source": [
    "# (p24) +-*/ class\n",
    "\n",
    "class FourCal:\n",
    "    pass\n",
    "\n",
    "a = FourCal()\n",
    "type(a)"
   ]
  },
  {
   "cell_type": "code",
   "execution_count": 19,
   "id": "96f0ac0b-7d65-4bee-a26e-4578d3002a1e",
   "metadata": {},
   "outputs": [
    {
     "name": "stdout",
     "output_type": "stream",
     "text": [
      "Help on class FourCal in module __main__:\n",
      "\n",
      "class FourCal(builtins.object)\n",
      " |  Data descriptors defined here:\n",
      " |  \n",
      " |  __dict__\n",
      " |      dictionary for instance variables (if defined)\n",
      " |  \n",
      " |  __weakref__\n",
      " |      list of weak references to the object (if defined)\n",
      "\n"
     ]
    }
   ],
   "source": [
    "help(FourCal)"
   ]
  },
  {
   "cell_type": "code",
   "execution_count": 20,
   "id": "dc9a9922-113a-42d5-bd59-9cc1a330ab6e",
   "metadata": {},
   "outputs": [
    {
     "name": "stdout",
     "output_type": "stream",
     "text": [
      "4\n"
     ]
    }
   ],
   "source": [
    "# (p25) +-*/ class\n",
    "\n",
    "class FourCal:\n",
    "    def setdata(self, first, second):\n",
    "        self.first = first\n",
    "        self.second = second\n",
    "\n",
    "a = FourCal()\n",
    "a.setdata(4,2)\n",
    "\n",
    "print(a.first)"
   ]
  },
  {
   "cell_type": "code",
   "execution_count": 21,
   "id": "69f422ac-1174-4fb0-a8ff-e06e8bd96d43",
   "metadata": {},
   "outputs": [
    {
     "name": "stdout",
     "output_type": "stream",
     "text": [
      "2\n"
     ]
    }
   ],
   "source": [
    "print(a.second)"
   ]
  },
  {
   "cell_type": "code",
   "execution_count": 22,
   "id": "3e7c0841-60c2-45e8-ac5a-0b2ba647bca7",
   "metadata": {},
   "outputs": [
    {
     "name": "stdout",
     "output_type": "stream",
     "text": [
      "6\n"
     ]
    }
   ],
   "source": [
    "# (p26) +-*/ class\n",
    "\n",
    "class FourCal:\n",
    "    def setdata(self, first, second):\n",
    "        self.first = first\n",
    "        self.second = second\n",
    "    def sum(self):\n",
    "        result = self.first + self.second\n",
    "        return result\n",
    "\n",
    "a = FourCal()\n",
    "a.setdata(4,2)\n",
    "print(a.sum())"
   ]
  },
  {
   "cell_type": "code",
   "execution_count": 23,
   "id": "157cc69d-8132-4284-9722-2f90f243df00",
   "metadata": {},
   "outputs": [],
   "source": [
    "# (p27) +-*/ class\n",
    "\n",
    "class FourCal:\n",
    "    def setdata(self, first, second):\n",
    "        self.first = first\n",
    "        self.second = second\n",
    "    def sum(self):\n",
    "        result = self.first + self.second\n",
    "        return result\n",
    "    def mul(self):\n",
    "        result = self.first * self.second\n",
    "        return result\n",
    "    def sub(self):\n",
    "        result = self.first - self.second\n",
    "        return result\n",
    "    def div(self):\n",
    "        result = self.first / self.second\n",
    "        return result\n"
   ]
  },
  {
   "cell_type": "code",
   "execution_count": 24,
   "id": "64089b30-e14d-467e-b1c1-bf4ebfd4b5ed",
   "metadata": {},
   "outputs": [
    {
     "data": {
      "text/plain": [
       "6"
      ]
     },
     "execution_count": 24,
     "metadata": {},
     "output_type": "execute_result"
    }
   ],
   "source": [
    "a = FourCal()\n",
    "b = FourCal()\n",
    "a.setdata(4,2)\n",
    "b.setdata(3,7)\n",
    "\n",
    "a.sum()"
   ]
  },
  {
   "cell_type": "code",
   "execution_count": 25,
   "id": "10f872a2-a561-43ad-8fe7-51fe93cc71d6",
   "metadata": {},
   "outputs": [
    {
     "data": {
      "text/plain": [
       "8"
      ]
     },
     "execution_count": 25,
     "metadata": {},
     "output_type": "execute_result"
    }
   ],
   "source": [
    "a.mul()"
   ]
  },
  {
   "cell_type": "code",
   "execution_count": 26,
   "id": "ff1f5835-04ed-42bf-96c3-ae390c991aab",
   "metadata": {},
   "outputs": [
    {
     "data": {
      "text/plain": [
       "2"
      ]
     },
     "execution_count": 26,
     "metadata": {},
     "output_type": "execute_result"
    }
   ],
   "source": [
    "a.sub()"
   ]
  },
  {
   "cell_type": "code",
   "execution_count": 27,
   "id": "cb86d9cb-43ff-4578-b047-cd6ee4a7e7ff",
   "metadata": {},
   "outputs": [
    {
     "data": {
      "text/plain": [
       "2.0"
      ]
     },
     "execution_count": 27,
     "metadata": {},
     "output_type": "execute_result"
    }
   ],
   "source": [
    "a.div()"
   ]
  },
  {
   "cell_type": "code",
   "execution_count": 28,
   "id": "e9984c26-5e8a-4563-a559-82414eb45581",
   "metadata": {},
   "outputs": [
    {
     "data": {
      "text/plain": [
       "10"
      ]
     },
     "execution_count": 28,
     "metadata": {},
     "output_type": "execute_result"
    }
   ],
   "source": [
    "b.sum()"
   ]
  },
  {
   "cell_type": "code",
   "execution_count": 29,
   "id": "f21216b2-7fc6-4a8e-8668-7efd90afca39",
   "metadata": {},
   "outputs": [
    {
     "data": {
      "text/plain": [
       "21"
      ]
     },
     "execution_count": 29,
     "metadata": {},
     "output_type": "execute_result"
    }
   ],
   "source": [
    "b.mul()"
   ]
  },
  {
   "cell_type": "code",
   "execution_count": 30,
   "id": "e76b641e-d414-44b7-ae45-d9020cde9947",
   "metadata": {},
   "outputs": [
    {
     "data": {
      "text/plain": [
       "-4"
      ]
     },
     "execution_count": 30,
     "metadata": {},
     "output_type": "execute_result"
    }
   ],
   "source": [
    "b.sub()"
   ]
  },
  {
   "cell_type": "code",
   "execution_count": 31,
   "id": "70ffbfc4-5eb3-4e02-954b-b810fe211bdd",
   "metadata": {},
   "outputs": [
    {
     "data": {
      "text/plain": [
       "0.42857142857142855"
      ]
     },
     "execution_count": 31,
     "metadata": {},
     "output_type": "execute_result"
    }
   ],
   "source": [
    "b.div()"
   ]
  },
  {
   "cell_type": "code",
   "execution_count": 35,
   "id": "97bc5fc1-3469-46b0-b3b0-801839999762",
   "metadata": {},
   "outputs": [
    {
     "name": "stdout",
     "output_type": "stream",
     "text": [
      "Player1 rolled[4, 4, 4]\n",
      "Player2 rolled[5, 6, 4]\n",
      "Player2 wins\n"
     ]
    }
   ],
   "source": [
    "# (p30) dice game\n",
    "\n",
    "import random\n",
    "\n",
    "player1_dice = []\n",
    "player2_dice = []\n",
    "\n",
    "for i in range(3):\n",
    "    player1_dice.append(random.randint(1,6))\n",
    "    player2_dice.append(random.randint(1,6))\n",
    "\n",
    "print('Player1 rolled' + str(player1_dice))\n",
    "print('Player2 rolled' + str(player2_dice))\n",
    "\n",
    "if sum(player1_dice) == sum(player2_dice):\n",
    "    print(\"Draw\")\n",
    "elif sum(player1_dice) > sum(player2_dice):\n",
    "    print('Player1 wins')\n",
    "else:\n",
    "    print('Player2 wins')"
   ]
  },
  {
   "cell_type": "code",
   "execution_count": 39,
   "id": "8d1cf973-3040-4f5f-9a0b-513b60dae2d1",
   "metadata": {},
   "outputs": [
    {
     "name": "stdout",
     "output_type": "stream",
     "text": [
      "Player1 rolled[3, 1, 3]\n",
      "Player2 rolled[2, 2, 6]\n",
      "Player2 wins\n"
     ]
    }
   ],
   "source": [
    "# (p31) dice game - OOP\n",
    "\n",
    "from random import randint\n",
    "\n",
    "class Player:\n",
    "    def __init__(self):\n",
    "        self.dice = []\n",
    "    def roll(self):\n",
    "        self.dice = []\n",
    "        for i in range(3):\n",
    "            self.dice.append(randint(1,6))\n",
    "    def get_dice(self):\n",
    "        return self.dice\n",
    "\n",
    "player1 = Player()\n",
    "player2 = Player()\n",
    "\n",
    "player1.roll()\n",
    "player2.roll()\n",
    "\n",
    "print('Player1 rolled' + str(player1.get_dice()))\n",
    "print('Player2 rolled' + str(player2.get_dice()))\n",
    "\n",
    "if sum(player1.get_dice()) == sum(player2.get_dice()):\n",
    "      print(\"Draw\")\n",
    "elif sum(player1.get_dice()) > sum(player2.get_dice()):\n",
    "      print(\"Player1 wins\")\n",
    "else:\n",
    "      print(\"Player2 wins\")"
   ]
  },
  {
   "cell_type": "code",
   "execution_count": 44,
   "id": "ca4caff4-c9a9-4be2-a55f-9a6f1db0ac14",
   "metadata": {},
   "outputs": [],
   "source": [
    "# (p32) bank example\n",
    "\n",
    "class Customer(object):\n",
    "    def __init__(self, name):\n",
    "        self.name = name\n",
    "    def set_balance(self, balance=0.0):\n",
    "        self.balance = balance\n",
    "    def withdraw(self, amount):\n",
    "        if amount > self.balance:\n",
    "            raise RuntimeError('Amount greater than available balance.')\n",
    "        self.balance -= amount\n",
    "        return self.balance\n",
    "    def deposit(self, amount):\n",
    "        self.balance += amount\n",
    "        return self.balance"
   ]
  },
  {
   "cell_type": "code",
   "execution_count": 45,
   "id": "c3e3dfea-839a-49b5-9f4c-1b5966452063",
   "metadata": {},
   "outputs": [
    {
     "data": {
      "text/plain": [
       "1100"
      ]
     },
     "execution_count": 45,
     "metadata": {},
     "output_type": "execute_result"
    }
   ],
   "source": [
    "cus = Customer('Customer1')\n",
    "\n",
    "cus.set_balance(1000)\n",
    "cus.deposit(100)"
   ]
  },
  {
   "cell_type": "code",
   "execution_count": 46,
   "id": "dc168e21-770c-4d03-ad2a-9c93ba2613c3",
   "metadata": {},
   "outputs": [
    {
     "data": {
      "text/plain": [
       "600"
      ]
     },
     "execution_count": 46,
     "metadata": {},
     "output_type": "execute_result"
    }
   ],
   "source": [
    "cus.withdraw(500)"
   ]
  },
  {
   "cell_type": "code",
   "execution_count": 47,
   "id": "96916a97-9502-4d5d-8858-0b7a06df8338",
   "metadata": {},
   "outputs": [
    {
     "ename": "RuntimeError",
     "evalue": "Amount greater than available balance.",
     "output_type": "error",
     "traceback": [
      "\u001b[1;31m---------------------------------------------------------------------------\u001b[0m",
      "\u001b[1;31mRuntimeError\u001b[0m                              Traceback (most recent call last)",
      "Cell \u001b[1;32mIn [47], line 1\u001b[0m\n\u001b[1;32m----> 1\u001b[0m \u001b[43mcus\u001b[49m\u001b[38;5;241;43m.\u001b[39;49m\u001b[43mwithdraw\u001b[49m\u001b[43m(\u001b[49m\u001b[38;5;241;43m700\u001b[39;49m\u001b[43m)\u001b[49m\n",
      "Cell \u001b[1;32mIn [44], line 10\u001b[0m, in \u001b[0;36mCustomer.withdraw\u001b[1;34m(self, amount)\u001b[0m\n\u001b[0;32m      8\u001b[0m \u001b[38;5;28;01mdef\u001b[39;00m \u001b[38;5;21mwithdraw\u001b[39m(\u001b[38;5;28mself\u001b[39m, amount):\n\u001b[0;32m      9\u001b[0m     \u001b[38;5;28;01mif\u001b[39;00m amount \u001b[38;5;241m>\u001b[39m \u001b[38;5;28mself\u001b[39m\u001b[38;5;241m.\u001b[39mbalance:\n\u001b[1;32m---> 10\u001b[0m         \u001b[38;5;28;01mraise\u001b[39;00m \u001b[38;5;167;01mRuntimeError\u001b[39;00m(\u001b[38;5;124m'\u001b[39m\u001b[38;5;124mAmount greater than available balance.\u001b[39m\u001b[38;5;124m'\u001b[39m)\n\u001b[0;32m     11\u001b[0m     \u001b[38;5;28mself\u001b[39m\u001b[38;5;241m.\u001b[39mbalance \u001b[38;5;241m-\u001b[39m\u001b[38;5;241m=\u001b[39m amount\n\u001b[0;32m     12\u001b[0m     \u001b[38;5;28;01mreturn\u001b[39;00m \u001b[38;5;28mself\u001b[39m\u001b[38;5;241m.\u001b[39mbalance\n",
      "\u001b[1;31mRuntimeError\u001b[0m: Amount greater than available balance."
     ]
    }
   ],
   "source": [
    "cus.withdraw(700)"
   ]
  },
  {
   "cell_type": "code",
   "execution_count": null,
   "id": "46fde364-75ce-4231-867a-5ab2207890e1",
   "metadata": {},
   "outputs": [],
   "source": [
    "#End"
   ]
  }
 ],
 "metadata": {
  "kernelspec": {
   "display_name": "Python 3 (ipykernel)",
   "language": "python",
   "name": "python3"
  },
  "language_info": {
   "codemirror_mode": {
    "name": "ipython",
    "version": 3
   },
   "file_extension": ".py",
   "mimetype": "text/x-python",
   "name": "python",
   "nbconvert_exporter": "python",
   "pygments_lexer": "ipython3",
   "version": "3.10.7"
  }
 },
 "nbformat": 4,
 "nbformat_minor": 5
}
