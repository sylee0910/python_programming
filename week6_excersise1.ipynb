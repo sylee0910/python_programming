{
 "cells": [
  {
   "cell_type": "code",
   "execution_count": null,
   "id": "ac4d74ff-04e7-4665-a2b9-10408bd53c7f",
   "metadata": {},
   "outputs": [],
   "source": [
    "# 이승율(2023202417)"
   ]
  },
  {
   "cell_type": "code",
   "execution_count": null,
   "id": "ad53a7bc-21df-4d2c-bcc0-1e4f161ba201",
   "metadata": {},
   "outputs": [],
   "source": [
    "#Functions"
   ]
  },
  {
   "cell_type": "code",
   "execution_count": 3,
   "id": "0672623f-2cd8-4c67-bc4a-41c5afbbd783",
   "metadata": {},
   "outputs": [],
   "source": [
    "def add(a):\n",
    "    b = a + 1\n",
    "    print(a, \"if you add one\", b)\n",
    "    return(a, b) # b = a + 1, (a, b)"
   ]
  },
  {
   "cell_type": "code",
   "execution_count": 4,
   "id": "eaa9a15b-c798-46bb-995c-d2ea577d71d8",
   "metadata": {},
   "outputs": [
    {
     "name": "stdout",
     "output_type": "stream",
     "text": [
      "0 if you add one 1\n"
     ]
    },
    {
     "data": {
      "text/plain": [
       "(0, 1)"
      ]
     },
     "execution_count": 4,
     "metadata": {},
     "output_type": "execute_result"
    }
   ],
   "source": [
    "add(0)"
   ]
  },
  {
   "cell_type": "code",
   "execution_count": 5,
   "id": "e0162c7d-8a54-4836-9aeb-336763dabd5b",
   "metadata": {},
   "outputs": [
    {
     "name": "stdout",
     "output_type": "stream",
     "text": [
      "10 if you add one 11\n"
     ]
    },
    {
     "data": {
      "text/plain": [
       "(10, 11)"
      ]
     },
     "execution_count": 5,
     "metadata": {},
     "output_type": "execute_result"
    }
   ],
   "source": [
    "add(10)"
   ]
  },
  {
   "cell_type": "code",
   "execution_count": 6,
   "id": "323cf752-0089-4ede-bfa5-9f298a9b7a1f",
   "metadata": {},
   "outputs": [
    {
     "name": "stdout",
     "output_type": "stream",
     "text": [
      "2 if you add one 3\n"
     ]
    },
    {
     "data": {
      "text/plain": [
       "(2, 3)"
      ]
     },
     "execution_count": 6,
     "metadata": {},
     "output_type": "execute_result"
    }
   ],
   "source": [
    "return_value = add(2)\n",
    "return_value"
   ]
  },
  {
   "cell_type": "code",
   "execution_count": 7,
   "id": "252beca9-6e2b-4d85-a3c7-04f25f2bec2a",
   "metadata": {},
   "outputs": [
    {
     "name": "stdout",
     "output_type": "stream",
     "text": [
      "Help on function add in module __main__:\n",
      "\n",
      "add(a)\n",
      "\n"
     ]
    }
   ],
   "source": [
    "help(add)"
   ]
  },
  {
   "cell_type": "code",
   "execution_count": 8,
   "id": "1212494e-d53e-4671-aa4e-51c6433b1527",
   "metadata": {},
   "outputs": [
    {
     "name": "stdout",
     "output_type": "stream",
     "text": [
      "10 if you add one 11\n"
     ]
    },
    {
     "data": {
      "text/plain": [
       "(10, 11)"
      ]
     },
     "execution_count": 8,
     "metadata": {},
     "output_type": "execute_result"
    }
   ],
   "source": [
    "add(10)"
   ]
  },
  {
   "cell_type": "code",
   "execution_count": 9,
   "id": "893e4c2d-f40a-4b07-b8f5-9081d0e42b7e",
   "metadata": {},
   "outputs": [
    {
     "name": "stdout",
     "output_type": "stream",
     "text": [
      "2 if you add one 3\n"
     ]
    },
    {
     "data": {
      "text/plain": [
       "(2, 3)"
      ]
     },
     "execution_count": 9,
     "metadata": {},
     "output_type": "execute_result"
    }
   ],
   "source": [
    "add(2)"
   ]
  },
  {
   "cell_type": "code",
   "execution_count": 10,
   "id": "42cf585d-e987-4051-bfa3-d69725c92a3e",
   "metadata": {},
   "outputs": [],
   "source": [
    "def Mult(a, b):\n",
    "    c = a * b\n",
    "    return(c)"
   ]
  },
  {
   "cell_type": "code",
   "execution_count": 12,
   "id": "9990fa0d-46b1-484e-8c13-c30f02a482cc",
   "metadata": {},
   "outputs": [
    {
     "data": {
      "text/plain": [
       "float"
      ]
     },
     "execution_count": 12,
     "metadata": {},
     "output_type": "execute_result"
    }
   ],
   "source": [
    "result_mult = Mult(2.3, 3.1)\n",
    "type(result_mult)"
   ]
  },
  {
   "cell_type": "code",
   "execution_count": 13,
   "id": "bb71c209-d63e-4a85-9446-3ca364c1c8a8",
   "metadata": {},
   "outputs": [
    {
     "name": "stdout",
     "output_type": "stream",
     "text": [
      "7.13\n"
     ]
    }
   ],
   "source": [
    "print(result_mult)"
   ]
  },
  {
   "cell_type": "code",
   "execution_count": 14,
   "id": "7ae9191c-ead8-431e-bed9-04c9521a3519",
   "metadata": {},
   "outputs": [
    {
     "data": {
      "text/plain": [
       "31.400000000000002"
      ]
     },
     "execution_count": 14,
     "metadata": {},
     "output_type": "execute_result"
    }
   ],
   "source": [
    "Mult(10.0, 3.14)"
   ]
  },
  {
   "cell_type": "code",
   "execution_count": 15,
   "id": "8a5e3f5c-3335-4cde-ad1a-55ed926d87fb",
   "metadata": {},
   "outputs": [
    {
     "data": {
      "text/plain": [
       "'Michael Jackson Michael Jackson '"
      ]
     },
     "execution_count": 15,
     "metadata": {},
     "output_type": "execute_result"
    }
   ],
   "source": [
    "Mult(2, \"Michael Jackson \")"
   ]
  },
  {
   "cell_type": "code",
   "execution_count": null,
   "id": "df4d2b41-e083-4874-be10-4dfacd2cd868",
   "metadata": {},
   "outputs": [],
   "source": [
    "# Variables\n",
    "# local, global"
   ]
  },
  {
   "cell_type": "code",
   "execution_count": 16,
   "id": "effaaeb0-44d6-4809-b052-4ff7e8d4a56c",
   "metadata": {},
   "outputs": [],
   "source": [
    "def square(a):\n",
    "    #local variable b\n",
    "    b = 1\n",
    "    c = a * a + b\n",
    "    print(a, \"if you square + 1\", c)\n",
    "    return(c)"
   ]
  },
  {
   "cell_type": "code",
   "execution_count": 17,
   "id": "4127927f-af5a-42b9-897e-19a15e35afb6",
   "metadata": {},
   "outputs": [
    {
     "name": "stdout",
     "output_type": "stream",
     "text": [
      "1 if you square + 1 2\n"
     ]
    },
    {
     "data": {
      "text/plain": [
       "2"
      ]
     },
     "execution_count": 17,
     "metadata": {},
     "output_type": "execute_result"
    }
   ],
   "source": [
    "square(1)"
   ]
  },
  {
   "cell_type": "code",
   "execution_count": 18,
   "id": "c7d635c2-6252-4e48-90d1-3a36e9841bf6",
   "metadata": {},
   "outputs": [
    {
     "name": "stdout",
     "output_type": "stream",
     "text": [
      "10 if you square + 1 101\n"
     ]
    },
    {
     "data": {
      "text/plain": [
       "101"
      ]
     },
     "execution_count": 18,
     "metadata": {},
     "output_type": "execute_result"
    }
   ],
   "source": [
    "square(10)"
   ]
  },
  {
   "cell_type": "code",
   "execution_count": 19,
   "id": "8eec9236-952b-484f-a4d6-5bd6f5ff3540",
   "metadata": {},
   "outputs": [
    {
     "name": "stdout",
     "output_type": "stream",
     "text": [
      "3 if you square + 1 10\n"
     ]
    },
    {
     "data": {
      "text/plain": [
       "10"
      ]
     },
     "execution_count": 19,
     "metadata": {},
     "output_type": "execute_result"
    }
   ],
   "source": [
    "x = 3\n",
    "y = square(x)\n",
    "y"
   ]
  },
  {
   "cell_type": "code",
   "execution_count": 20,
   "id": "e1c39b1a-adce-4f1f-837e-f717eec06169",
   "metadata": {},
   "outputs": [
    {
     "ename": "NameError",
     "evalue": "name 'c' is not defined",
     "output_type": "error",
     "traceback": [
      "\u001b[1;31m---------------------------------------------------------------------------\u001b[0m",
      "\u001b[1;31mNameError\u001b[0m                                 Traceback (most recent call last)",
      "Cell \u001b[1;32mIn [20], line 1\u001b[0m\n\u001b[1;32m----> 1\u001b[0m \u001b[43mc\u001b[49m\n",
      "\u001b[1;31mNameError\u001b[0m: name 'c' is not defined"
     ]
    }
   ],
   "source": [
    "c"
   ]
  },
  {
   "cell_type": "code",
   "execution_count": 21,
   "id": "a0192655-0144-4b7a-81d2-5c5306772fec",
   "metadata": {},
   "outputs": [
    {
     "name": "stdout",
     "output_type": "stream",
     "text": [
      "2 if you square + 1 5\n"
     ]
    },
    {
     "data": {
      "text/plain": [
       "5"
      ]
     },
     "execution_count": 21,
     "metadata": {},
     "output_type": "execute_result"
    }
   ],
   "source": [
    "square(2)"
   ]
  },
  {
   "cell_type": "code",
   "execution_count": 22,
   "id": "2caa52ef-652a-478f-8680-0541c9311be5",
   "metadata": {},
   "outputs": [],
   "source": [
    "def MJ():\n",
    "    print(\"Michael Jackson\")\n",
    "\n",
    "def MJ1():\n",
    "    print(\"Michael Jackson\")\n",
    "    return(None)"
   ]
  },
  {
   "cell_type": "code",
   "execution_count": 23,
   "id": "3b238ddd-9c13-4aec-ab99-f1f8ef718d3b",
   "metadata": {},
   "outputs": [
    {
     "name": "stdout",
     "output_type": "stream",
     "text": [
      "Michael Jackson\n"
     ]
    }
   ],
   "source": [
    "MJ()"
   ]
  },
  {
   "cell_type": "code",
   "execution_count": 24,
   "id": "136e18a0-cf48-4d6a-a2ab-797bfc9fde20",
   "metadata": {},
   "outputs": [
    {
     "name": "stdout",
     "output_type": "stream",
     "text": [
      "Michael Jackson\n"
     ]
    }
   ],
   "source": [
    "MJ1()"
   ]
  },
  {
   "cell_type": "code",
   "execution_count": 25,
   "id": "e069dac7-3e6e-4049-953b-2cea064ab968",
   "metadata": {},
   "outputs": [],
   "source": [
    "def con(a, b):\n",
    "    return (a + b)"
   ]
  },
  {
   "cell_type": "code",
   "execution_count": 26,
   "id": "8bcc0f37-d855-45fb-bc57-f14055b90fe8",
   "metadata": {},
   "outputs": [
    {
     "data": {
      "text/plain": [
       "str"
      ]
     },
     "execution_count": 26,
     "metadata": {},
     "output_type": "execute_result"
    }
   ],
   "source": [
    "text_return = con(\"This \", \"is\")\n",
    "type(text_return)"
   ]
  },
  {
   "cell_type": "code",
   "execution_count": 27,
   "id": "609a95aa-e93d-44da-976a-4e391b519f2f",
   "metadata": {},
   "outputs": [
    {
     "data": {
      "text/plain": [
       "'This is'"
      ]
     },
     "execution_count": 27,
     "metadata": {},
     "output_type": "execute_result"
    }
   ],
   "source": [
    "text_return"
   ]
  },
  {
   "cell_type": "code",
   "execution_count": null,
   "id": "1b8ff25b-a586-4cf2-b64d-824f839c7c97",
   "metadata": {},
   "outputs": [],
   "source": [
    "#Function Make Things Simple"
   ]
  },
  {
   "cell_type": "code",
   "execution_count": 3,
   "id": "d2d59151-ac53-40bb-833c-92e034c68012",
   "metadata": {},
   "outputs": [
    {
     "name": "stdout",
     "output_type": "stream",
     "text": [
      "48\n"
     ]
    },
    {
     "data": {
      "text/plain": [
       "5"
      ]
     },
     "execution_count": 3,
     "metadata": {},
     "output_type": "execute_result"
    }
   ],
   "source": [
    "#Block 1:\n",
    "\n",
    "a1 = 4\n",
    "b1 = 5\n",
    "c1 = a1 + b1 + 2 * a1 * b1 - 1\n",
    "\n",
    "if(c1 < 0):\n",
    "    c1 = 0\n",
    "else:\n",
    "    print(c1)\n",
    "    c1 = 5\n",
    "\n",
    "c1"
   ]
  },
  {
   "cell_type": "code",
   "execution_count": 4,
   "id": "70c6401e-d110-4fc0-9554-17aba4d89f64",
   "metadata": {},
   "outputs": [
    {
     "data": {
      "text/plain": [
       "0"
      ]
     },
     "execution_count": 4,
     "metadata": {},
     "output_type": "execute_result"
    }
   ],
   "source": [
    "#Block 2:\n",
    "\n",
    "a2 = 0\n",
    "b2 = 0\n",
    "c2 = a2 + b2 + 2 * a2 * b2 - 1\n",
    "if(c2 < 0):\n",
    "    c2 = 0\n",
    "else:\n",
    "    c2 = 5\n",
    "\n",
    "c2"
   ]
  },
  {
   "cell_type": "code",
   "execution_count": 5,
   "id": "d37ef787-20fb-4443-975e-801382c16b24",
   "metadata": {},
   "outputs": [],
   "source": [
    "#Make a Function for the caluation above\n",
    "\n",
    "def Equation(a, b):\n",
    "    c = a + b + 2 * a * b - 1\n",
    "    if(c < 0):\n",
    "        c = 0\n",
    "    else:\n",
    "        c = 5\n",
    "    return(c)"
   ]
  },
  {
   "cell_type": "code",
   "execution_count": 6,
   "id": "0b484dd5-51e6-44cd-a847-05e356c22d79",
   "metadata": {},
   "outputs": [
    {
     "data": {
      "text/plain": [
       "0"
      ]
     },
     "execution_count": 6,
     "metadata": {},
     "output_type": "execute_result"
    }
   ],
   "source": [
    "Equation(0, 0)"
   ]
  },
  {
   "cell_type": "code",
   "execution_count": 7,
   "id": "f8eca778-200f-4706-92e1-be2c0674de1a",
   "metadata": {},
   "outputs": [
    {
     "data": {
      "text/plain": [
       "5"
      ]
     },
     "execution_count": 7,
     "metadata": {},
     "output_type": "execute_result"
    }
   ],
   "source": [
    "Equation(1, 1)"
   ]
  },
  {
   "cell_type": "code",
   "execution_count": 8,
   "id": "8fafcd8b-1b67-408e-93d8-eae06c3986e4",
   "metadata": {},
   "outputs": [
    {
     "data": {
      "text/plain": [
       "5"
      ]
     },
     "execution_count": 8,
     "metadata": {},
     "output_type": "execute_result"
    }
   ],
   "source": [
    "#Block3\n",
    "\n",
    "a1 = 4\n",
    "b1 = 5\n",
    "c1 = Equation(a1, b1)\n",
    "c1"
   ]
  },
  {
   "cell_type": "code",
   "execution_count": 9,
   "id": "fd1a3cd8-ec9f-475c-9bed-a4bfad230233",
   "metadata": {},
   "outputs": [
    {
     "data": {
      "text/plain": [
       "0"
      ]
     },
     "execution_count": 9,
     "metadata": {},
     "output_type": "execute_result"
    }
   ],
   "source": [
    "#Block4\n",
    "\n",
    "a2 = 0\n",
    "b2 = 0\n",
    "c2 = Equation(a2, b2)\n",
    "c2"
   ]
  },
  {
   "cell_type": "code",
   "execution_count": 10,
   "id": "93bc51cd-fe91-4575-8d3b-10aee120772c",
   "metadata": {},
   "outputs": [
    {
     "name": "stdout",
     "output_type": "stream",
     "text": [
      "[10.0, 8.5, 9.5, 7.0, 7.0, 9.5, 9.0, 9.5]\n"
     ]
    }
   ],
   "source": [
    "#Pre-Defined functions\n",
    "\n",
    "album_ratings = [10.0, 8.5, 9.5, 7.0, 7.0, 9.5, 9.0, 9.5]\n",
    "print(album_ratings)"
   ]
  },
  {
   "cell_type": "code",
   "execution_count": 11,
   "id": "1c3bc021-b5b9-4fd5-b014-3bb0d8e157e2",
   "metadata": {},
   "outputs": [
    {
     "data": {
      "text/plain": [
       "list"
      ]
     },
     "execution_count": 11,
     "metadata": {},
     "output_type": "execute_result"
    }
   ],
   "source": [
    "type(album_ratings)"
   ]
  },
  {
   "cell_type": "code",
   "execution_count": 12,
   "id": "0c4ef866-d13e-4d97-82bf-330e74cbf91f",
   "metadata": {},
   "outputs": [
    {
     "data": {
      "text/plain": [
       "70.0"
      ]
     },
     "execution_count": 12,
     "metadata": {},
     "output_type": "execute_result"
    }
   ],
   "source": [
    "sum(album_ratings)"
   ]
  },
  {
   "cell_type": "code",
   "execution_count": 13,
   "id": "844f68d6-4b80-445a-8a0a-4f5c1533e1c7",
   "metadata": {},
   "outputs": [
    {
     "data": {
      "text/plain": [
       "8"
      ]
     },
     "execution_count": 13,
     "metadata": {},
     "output_type": "execute_result"
    }
   ],
   "source": [
    "len(album_ratings)"
   ]
  },
  {
   "cell_type": "code",
   "execution_count": 14,
   "id": "65d9fdf4-bb5c-4c7b-a1fc-d5ae36010caa",
   "metadata": {},
   "outputs": [
    {
     "name": "stdout",
     "output_type": "stream",
     "text": [
      "Michael Jackson Thriller 1980\n",
      "Oldie\n"
     ]
    },
    {
     "data": {
      "text/plain": [
       "str"
      ]
     },
     "execution_count": 14,
     "metadata": {},
     "output_type": "execute_result"
    }
   ],
   "source": [
    "#Using if/else Statements and Loops in Functions\n",
    "\n",
    "def type_of_album(artist, album, year_released):\n",
    "    print(artist, album, year_released)\n",
    "    if(year_released > 1980):\n",
    "        return \"Modern\"\n",
    "    else:\n",
    "        return \"Oldie\"\n",
    "\n",
    "x = type_of_album(\"Michael Jackson\", \"Thriller\", 1980)\n",
    "print(x)\n",
    "type(x)"
   ]
  },
  {
   "cell_type": "code",
   "execution_count": 15,
   "id": "9b9b4ad7-c52a-4aed-adff-945b523dc410",
   "metadata": {},
   "outputs": [],
   "source": [
    "#Print the list using for loop\n",
    "\n",
    "def PrintList(the_list):\n",
    "    for element in the_list:\n",
    "        print(element)"
   ]
  },
  {
   "cell_type": "code",
   "execution_count": 16,
   "id": "d17fff86-1204-4ed4-b493-43afe4b4be00",
   "metadata": {},
   "outputs": [
    {
     "name": "stdout",
     "output_type": "stream",
     "text": [
      "1\n",
      "1\n",
      "the man\n",
      "abc\n"
     ]
    }
   ],
   "source": [
    "PrintList(['1', 1, 'the man', \"abc\"])"
   ]
  },
  {
   "cell_type": "code",
   "execution_count": 17,
   "id": "d5962de7-8373-4aa5-a455-c71013f9d4f5",
   "metadata": {},
   "outputs": [
    {
     "name": "stdout",
     "output_type": "stream",
     "text": [
      "10.0\n",
      "8.5\n",
      "9.5\n",
      "7.0\n",
      "7.0\n",
      "9.5\n",
      "9.0\n",
      "9.5\n"
     ]
    }
   ],
   "source": [
    "PrintList(album_ratings)"
   ]
  },
  {
   "cell_type": "code",
   "execution_count": 18,
   "id": "5e7351c9-b6ac-49a9-8211-483d6e0e5b8d",
   "metadata": {},
   "outputs": [],
   "source": [
    "#Setting default argument values in your custom functions\n",
    "\n",
    "def isGoodRating(rating = 4):\n",
    "    if(rating < 7):\n",
    "        print(\"this album sucks it's rating is\", rating)\n",
    "    else:\n",
    "        print(\"this album is good its rating is\", rating)"
   ]
  },
  {
   "cell_type": "code",
   "execution_count": 19,
   "id": "ebe3c770-7895-428f-b334-58e015cf7649",
   "metadata": {},
   "outputs": [
    {
     "name": "stdout",
     "output_type": "stream",
     "text": [
      "this album sucks it's rating is 4\n",
      "this album is good its rating is 10\n"
     ]
    }
   ],
   "source": [
    "isGoodRating()\n",
    "isGoodRating(10)"
   ]
  },
  {
   "cell_type": "code",
   "execution_count": 24,
   "id": "96ffb858-77ea-458e-8723-303eca11120a",
   "metadata": {},
   "outputs": [
    {
     "ename": "NameError",
     "evalue": "name 'internal_var' is not defined",
     "output_type": "error",
     "traceback": [
      "\u001b[1;31m---------------------------------------------------------------------------\u001b[0m",
      "\u001b[1;31mNameError\u001b[0m                                 Traceback (most recent call last)",
      "Cell \u001b[1;32mIn [24], line 9\u001b[0m\n\u001b[0;32m      6\u001b[0m     internal_var \u001b[38;5;241m=\u001b[39m artist\n\u001b[0;32m      7\u001b[0m     \u001b[38;5;28mprint\u001b[39m(artist, \u001b[38;5;124m\"\u001b[39m\u001b[38;5;124mis an artist\u001b[39m\u001b[38;5;124m\"\u001b[39m)\n\u001b[1;32m----> 9\u001b[0m printer1(artist, \u001b[43minternal_var\u001b[49m)\n",
      "\u001b[1;31mNameError\u001b[0m: name 'internal_var' is not defined"
     ]
    }
   ],
   "source": [
    "#Global variables\n",
    "\n",
    "artist = \"Michael Jackson\"\n",
    "\n",
    "def printer1(artist):\n",
    "    internal_var = artist\n",
    "    print(artist, \"is an artist\")\n",
    "\n",
    "printer1(artist, internal_var)"
   ]
  },
  {
   "cell_type": "code",
   "execution_count": 28,
   "id": "7a6a9997-fcfa-4560-be21-584d80f67593",
   "metadata": {},
   "outputs": [
    {
     "name": "stdout",
     "output_type": "stream",
     "text": [
      "Michael Jackson is an artist\n",
      "Whitney Houston is an artist\n"
     ]
    }
   ],
   "source": [
    "artist = \"Michael Jackson\"\n",
    "\n",
    "def printer(artist):\n",
    "    global internal_var\n",
    "    internal_var = \"Whitney Houston\"\n",
    "    print(artist, \"is an artist\")\n",
    "\n",
    "printer(artist)\n",
    "printer(internal_var)\n",
    "\n",
    "#printer가 아닌 print로 출력해도 not defined error occur"
   ]
  },
  {
   "cell_type": "code",
   "execution_count": 30,
   "id": "5902321e-b599-4b6c-b852-694bbb16ea00",
   "metadata": {},
   "outputs": [
    {
     "name": "stdout",
     "output_type": "stream",
     "text": [
      "AC/DC's rating is: 10.0\n",
      "Deep purple's rating is: 0.0\n",
      "My favourite band is: AC/DC\n"
     ]
    }
   ],
   "source": [
    "#Scope of a Variable\n",
    "\n",
    "myFavouriteBand = \"AC/DC\"\n",
    "\n",
    "def getBandRating(bandname):\n",
    "    if bandname == myFavouriteBand:\n",
    "        return 10.0\n",
    "    else:\n",
    "        return 0.0\n",
    "\n",
    "print(\"AC/DC's rating is:\", getBandRating(\"AC/DC\"))\n",
    "print(\"Deep purple's rating is:\", getBandRating(\"Deep purple\"))\n",
    "print(\"My favourite band is:\", myFavouriteBand)"
   ]
  },
  {
   "cell_type": "code",
   "execution_count": 31,
   "id": "09e1aa22-3653-4121-9cd7-68a8aad31933",
   "metadata": {},
   "outputs": [
    {
     "name": "stdout",
     "output_type": "stream",
     "text": [
      "AC/DC's rating is: 10.0\n",
      "Deep purple's rating is: 0.0\n"
     ]
    },
    {
     "ename": "NameError",
     "evalue": "name 'myFavouriteBand2' is not defined",
     "output_type": "error",
     "traceback": [
      "\u001b[1;31m---------------------------------------------------------------------------\u001b[0m",
      "\u001b[1;31mNameError\u001b[0m                                 Traceback (most recent call last)",
      "Cell \u001b[1;32mIn [31], line 10\u001b[0m\n\u001b[0;32m      8\u001b[0m \u001b[38;5;28mprint\u001b[39m(\u001b[38;5;124m\"\u001b[39m\u001b[38;5;124mAC/DC\u001b[39m\u001b[38;5;124m'\u001b[39m\u001b[38;5;124ms rating is:\u001b[39m\u001b[38;5;124m\"\u001b[39m, getBandRating(\u001b[38;5;124m\"\u001b[39m\u001b[38;5;124mAC/DC\u001b[39m\u001b[38;5;124m\"\u001b[39m))\n\u001b[0;32m      9\u001b[0m \u001b[38;5;28mprint\u001b[39m(\u001b[38;5;124m\"\u001b[39m\u001b[38;5;124mDeep purple\u001b[39m\u001b[38;5;124m'\u001b[39m\u001b[38;5;124ms rating is:\u001b[39m\u001b[38;5;124m\"\u001b[39m, getBandRating(\u001b[38;5;124m\"\u001b[39m\u001b[38;5;124mDeep purple\u001b[39m\u001b[38;5;124m\"\u001b[39m))\n\u001b[1;32m---> 10\u001b[0m \u001b[38;5;28mprint\u001b[39m(\u001b[38;5;124m\"\u001b[39m\u001b[38;5;124mMy favourite band is:\u001b[39m\u001b[38;5;124m\"\u001b[39m, \u001b[43mmyFavouriteBand2\u001b[49m)\n",
      "\u001b[1;31mNameError\u001b[0m: name 'myFavouriteBand2' is not defined"
     ]
    }
   ],
   "source": [
    "def getBandRating(bandname):\n",
    "    myFavouriteBand2 = \"AC/DC\"\n",
    "    if bandname == myFavouriteBand2:\n",
    "        return 10.0\n",
    "    else:\n",
    "        return 0.0\n",
    "\n",
    "print(\"AC/DC's rating is:\", getBandRating(\"AC/DC\"))\n",
    "print(\"Deep purple's rating is:\", getBandRating(\"Deep purple\"))\n",
    "print(\"My favourite band is:\", myFavouriteBand2)"
   ]
  },
  {
   "cell_type": "code",
   "execution_count": 33,
   "id": "2e2ab0ac-8357-4a3a-9ebb-44fa27205a9e",
   "metadata": {},
   "outputs": [
    {
     "name": "stdout",
     "output_type": "stream",
     "text": [
      "AC/DC's rating is: 0.0\n",
      "Deep purple's rating is: 0.0\n",
      "My favourite band is: AC/DC\n"
     ]
    }
   ],
   "source": [
    "myFavouriteBand = \"AC/DC\"\n",
    "\n",
    "def getBandRating(bandname):\n",
    "    myFavouriteBand = \"Deep Purple\"\n",
    "    if bandname == myFavouriteBand:\n",
    "        return 10.0\n",
    "    else:\n",
    "        return 0.0\n",
    "\n",
    "print(\"AC/DC's rating is:\", getBandRating(\"AC/DC\"))\n",
    "print(\"Deep purple's rating is:\", getBandRating(\"Deep purple\"))\n",
    "print(\"My favourite band is:\", myFavouriteBand)"
   ]
  },
  {
   "cell_type": "code",
   "execution_count": null,
   "id": "6f574965-d907-4cd8-8f81-c4f6c8a17f56",
   "metadata": {},
   "outputs": [],
   "source": [
    "#Quiz on Functions"
   ]
  },
  {
   "cell_type": "code",
   "execution_count": 35,
   "id": "76950b85-ad6c-4366-88af-aa673e9fbe12",
   "metadata": {},
   "outputs": [
    {
     "data": {
      "text/plain": [
       "0.5"
      ]
     },
     "execution_count": 35,
     "metadata": {},
     "output_type": "execute_result"
    }
   ],
   "source": [
    "#Come up with a function that divides the first input by the second input:\n",
    "\n",
    "def div(p1, p2):\n",
    "    result = p1 / p2\n",
    "    return(result)\n",
    "\n",
    "div(2,4)"
   ]
  },
  {
   "cell_type": "code",
   "execution_count": 36,
   "id": "20690cd3-4a41-433e-b818-884bd5db7521",
   "metadata": {},
   "outputs": [],
   "source": [
    "#Use the function con for the following question.\n",
    "\n",
    "def con(a, b):\n",
    "    return(a + b)"
   ]
  },
  {
   "cell_type": "code",
   "execution_count": 37,
   "id": "fb86b4cf-1256-48e6-ae26-ea48352fa375",
   "metadata": {},
   "outputs": [
    {
     "data": {
      "text/plain": [
       "2"
      ]
     },
     "execution_count": 37,
     "metadata": {},
     "output_type": "execute_result"
    }
   ],
   "source": [
    "#Can the con function we defined before be used to add to integers or string?\n",
    "\n",
    "con(1,1)"
   ]
  },
  {
   "cell_type": "code",
   "execution_count": 38,
   "id": "a8a64e80-8ac8-4585-9278-f797438d4caa",
   "metadata": {},
   "outputs": [
    {
     "data": {
      "text/plain": [
       "'Thankyou'"
      ]
     },
     "execution_count": 38,
     "metadata": {},
     "output_type": "execute_result"
    }
   ],
   "source": [
    "con(\"Thank\",\"you\")"
   ]
  },
  {
   "cell_type": "code",
   "execution_count": 40,
   "id": "d736423d-0a7a-456a-84d4-48b74e82db05",
   "metadata": {},
   "outputs": [
    {
     "data": {
      "text/plain": [
       "[1, 2, 3, 4, 5, 6]"
      ]
     },
     "execution_count": 40,
     "metadata": {},
     "output_type": "execute_result"
    }
   ],
   "source": [
    "#Can the con function we defined before be used to concentrate a list or tuple?\n",
    "\n",
    "list1 = [1,2,3]\n",
    "list2 = [4,5,6]\n",
    "con(list1,list2)"
   ]
  },
  {
   "cell_type": "code",
   "execution_count": 50,
   "id": "aa1bbc46-abee-41cb-a0df-1b0b9565c8b6",
   "metadata": {},
   "outputs": [
    {
     "data": {
      "text/plain": [
       "tuple"
      ]
     },
     "execution_count": 50,
     "metadata": {},
     "output_type": "execute_result"
    }
   ],
   "source": [
    "tu1 = (['A', 1], ['B', 2])\n",
    "type(tu1)"
   ]
  },
  {
   "cell_type": "code",
   "execution_count": 51,
   "id": "d8fda186-4cb1-4085-9836-5ab26ad6109a",
   "metadata": {},
   "outputs": [
    {
     "data": {
      "text/plain": [
       "tuple"
      ]
     },
     "execution_count": 51,
     "metadata": {},
     "output_type": "execute_result"
    }
   ],
   "source": [
    "tu2 = (['C', 3], ['D', 4])\n",
    "type(tu2)"
   ]
  },
  {
   "cell_type": "code",
   "execution_count": 52,
   "id": "7927e364-75d0-4380-9bea-851bb38fe49a",
   "metadata": {},
   "outputs": [
    {
     "data": {
      "text/plain": [
       "(['A', 1], ['B', 2], ['C', 3], ['D', 4])"
      ]
     },
     "execution_count": 52,
     "metadata": {},
     "output_type": "execute_result"
    }
   ],
   "source": [
    "con(tu1, tu2)"
   ]
  },
  {
   "cell_type": "code",
   "execution_count": null,
   "id": "0eb521c7-2a05-4a19-8885-b50b5442f3da",
   "metadata": {},
   "outputs": [],
   "source": [
    "#End"
   ]
  }
 ],
 "metadata": {
  "kernelspec": {
   "display_name": "Python 3 (ipykernel)",
   "language": "python",
   "name": "python3"
  },
  "language_info": {
   "codemirror_mode": {
    "name": "ipython",
    "version": 3
   },
   "file_extension": ".py",
   "mimetype": "text/x-python",
   "name": "python",
   "nbconvert_exporter": "python",
   "pygments_lexer": "ipython3",
   "version": "3.10.7"
  }
 },
 "nbformat": 4,
 "nbformat_minor": 5
}
