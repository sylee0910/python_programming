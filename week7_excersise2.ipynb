{
  "nbformat": 4,
  "nbformat_minor": 0,
  "metadata": {
    "colab": {
      "provenance": []
    },
    "kernelspec": {
      "name": "python3",
      "display_name": "Python 3"
    },
    "language_info": {
      "name": "python"
    }
  },
  "cells": [
    {
      "cell_type": "code",
      "execution_count": null,
      "metadata": {
        "id": "rttzjnnwED4Q"
      },
      "outputs": [],
      "source": [
        "# 이승율(2023202417)"
      ]
    },
    {
      "cell_type": "code",
      "execution_count": 1,
      "metadata": {
        "id": "oy2a-d745oKy",
        "colab": {
          "base_uri": "https://localhost:8080/"
        },
        "outputId": "67e2ab40-1ff4-4ae6-bb00-74c3e9004eaa"
      },
      "outputs": [
        {
          "output_type": "stream",
          "name": "stdout",
          "text": [
            "Mounted at /content/gdrive\n"
          ]
        }
      ],
      "source": [
        "#Write and Save Files in Python\n",
        "#Writing Files\n",
        "\n",
        "from google.colab import drive\n",
        "drive.mount('/content/gdrive')"
      ]
    },
    {
      "cell_type": "code",
      "source": [
        "#write line to file\n",
        "\n",
        "with open('/content/gdrive/My Drive/Colab Notebooks/example2.txt','w') as writefile:\n",
        "  writefile.write('This is line A')"
      ],
      "metadata": {
        "id": "Q3D_TNtgEZzQ"
      },
      "execution_count": 2,
      "outputs": []
    },
    {
      "cell_type": "code",
      "source": [
        "#Read File\n",
        "with open('/content/gdrive/My Drive/Colab Notebooks/example2.txt','r') as testwritefile:\n",
        "  print(testwritefile.read())"
      ],
      "metadata": {
        "colab": {
          "base_uri": "https://localhost:8080/"
        },
        "id": "BmrtfyJ8EuAj",
        "outputId": "2b2507d4-71c1-4120-9c27-291b7a0b57cc"
      },
      "execution_count": 3,
      "outputs": [
        {
          "output_type": "stream",
          "name": "stdout",
          "text": [
            "This is line A\n"
          ]
        }
      ]
    },
    {
      "cell_type": "code",
      "source": [
        "#write lines to file\n",
        "with open('/content/gdrive/My Drive/Colab Notebooks/example10.txt','w') as writefile:\n",
        "  writefile.write('This is line A\\n')\n",
        "  writefile.write('This is line B\\n')\n",
        "  writefile.write('This is line 10\\n')"
      ],
      "metadata": {
        "id": "zGESArHNFAU7"
      },
      "execution_count": 4,
      "outputs": []
    },
    {
      "cell_type": "code",
      "source": [
        "#Read again\n",
        "with open('/content/gdrive/My Drive/Colab Notebooks/example10.txt','r') as testwritefile:\n",
        "  print(testwritefile.read())"
      ],
      "metadata": {
        "colab": {
          "base_uri": "https://localhost:8080/"
        },
        "id": "WZom2EbUFYSI",
        "outputId": "e1f596df-9521-439d-a987-4f1d22c52ee3"
      },
      "execution_count": 5,
      "outputs": [
        {
          "output_type": "stream",
          "name": "stdout",
          "text": [
            "This is line A\n",
            "This is line B\n",
            "This is line 10\n",
            "\n"
          ]
        }
      ]
    },
    {
      "cell_type": "code",
      "source": [
        "with open('/content/gdrive/My Drive/Colab Notebooks/example2.txt','a') as testwritefile:\n",
        "  testwritefile.write('This is line C\\n')"
      ],
      "metadata": {
        "id": "Aso5aOlfFibf"
      },
      "execution_count": 6,
      "outputs": []
    },
    {
      "cell_type": "code",
      "source": [
        "with open('/content/gdrive/My Drive/Colab Notebooks/example2.txt','r') as testwritefile:\n",
        "  print(testwritefile.read())"
      ],
      "metadata": {
        "colab": {
          "base_uri": "https://localhost:8080/"
        },
        "id": "FuwHo-neF0eM",
        "outputId": "eabf54bb-09f7-4a6e-f732-03d8f5e63369"
      },
      "execution_count": 7,
      "outputs": [
        {
          "output_type": "stream",
          "name": "stdout",
          "text": [
            "This is line AThis is line C\n",
            "\n"
          ]
        }
      ]
    },
    {
      "cell_type": "code",
      "source": [
        "#Sample list of text\n",
        "LInes = ['This is line A\\n', 'This is line B\\n', 'This is line C\\n']\n",
        "LInes"
      ],
      "metadata": {
        "colab": {
          "base_uri": "https://localhost:8080/"
        },
        "id": "dHkXLzcfGAGL",
        "outputId": "fd6737c0-dea0-445e-836b-27044620c314"
      },
      "execution_count": 18,
      "outputs": [
        {
          "output_type": "execute_result",
          "data": {
            "text/plain": [
              "['This is line A\\n', 'This is line B\\n', 'This is line C\\n']"
            ]
          },
          "metadata": {},
          "execution_count": 18
        }
      ]
    },
    {
      "cell_type": "code",
      "source": [
        "type(LInes)"
      ],
      "metadata": {
        "colab": {
          "base_uri": "https://localhost:8080/"
        },
        "id": "FmS4CCAhGR1L",
        "outputId": "0e180f9b-8122-40b7-c238-7ad29f92c5a8"
      },
      "execution_count": 19,
      "outputs": [
        {
          "output_type": "execute_result",
          "data": {
            "text/plain": [
              "list"
            ]
          },
          "metadata": {},
          "execution_count": 19
        }
      ]
    },
    {
      "cell_type": "code",
      "source": [
        "with open('/content/gdrive/My Drive/Colab Notebooks/example11.txt', 'w') as writefile:\n",
        "  for line in LInes:\n",
        "    print(line)\n",
        "    writefile.write(line)"
      ],
      "metadata": {
        "colab": {
          "base_uri": "https://localhost:8080/"
        },
        "id": "FjkLIVCVGTSy",
        "outputId": "30e5d60c-c34f-41b4-9533-7e305b962ccd"
      },
      "execution_count": 20,
      "outputs": [
        {
          "output_type": "stream",
          "name": "stdout",
          "text": [
            "This is line A\n",
            "\n",
            "This is line B\n",
            "\n",
            "This is line C\n",
            "\n"
          ]
        }
      ]
    },
    {
      "cell_type": "code",
      "source": [
        "type(line)"
      ],
      "metadata": {
        "colab": {
          "base_uri": "https://localhost:8080/"
        },
        "id": "78b58JP1GmIS",
        "outputId": "1f95e372-3dda-42a5-f76b-778c639d84aa"
      },
      "execution_count": 21,
      "outputs": [
        {
          "output_type": "execute_result",
          "data": {
            "text/plain": [
              "str"
            ]
          },
          "metadata": {},
          "execution_count": 21
        }
      ]
    },
    {
      "cell_type": "code",
      "source": [
        "#Append the line to the file\n",
        "with open('/content/gdrive/My Drive/Colab Notebooks/example11.txt','a') as testwritefile:\n",
        "  testwritefile.write('This is line D\\n')"
      ],
      "metadata": {
        "id": "Dha1oTn0G9n-"
      },
      "execution_count": 23,
      "outputs": []
    },
    {
      "cell_type": "code",
      "source": [
        "with open('/content/gdrive/My Drive/Colab Notebooks/example11.txt','r') as testwritefile:\n",
        "  print(testwritefile.read())"
      ],
      "metadata": {
        "colab": {
          "base_uri": "https://localhost:8080/"
        },
        "id": "ofmhi11HHO2w",
        "outputId": "a43ca9d1-ef77-428e-9f94-4265932bd012"
      },
      "execution_count": 24,
      "outputs": [
        {
          "output_type": "stream",
          "name": "stdout",
          "text": [
            "This is line A\n",
            "This is line B\n",
            "This is line C\n",
            "This is line D\n",
            "\n"
          ]
        }
      ]
    },
    {
      "cell_type": "code",
      "source": [
        "#Copy a File\n",
        "\n",
        "with open('/content/gdrive/My Drive/Colab Notebooks/example11.txt','r') as readfile:\n",
        "  with open('/content/gdrive/My Drive/Colab Notebooks/example12.txt','w') as writefile:\n",
        "    for line in readfile:\n",
        "      writefile.write(line)"
      ],
      "metadata": {
        "id": "AvfODfYaHhHu"
      },
      "execution_count": 25,
      "outputs": []
    },
    {
      "cell_type": "code",
      "source": [
        "#example12.txt\n",
        "with open('/content/gdrive/My Drive/Colab Notebooks/example12.txt','r') as testwritefile:\n",
        "  print(testwritefile.read())"
      ],
      "metadata": {
        "colab": {
          "base_uri": "https://localhost:8080/"
        },
        "id": "2vGJcclKH4AK",
        "outputId": "d8653d3c-5d13-4f88-f739-95162ba72deb"
      },
      "execution_count": 29,
      "outputs": [
        {
          "output_type": "stream",
          "name": "stdout",
          "text": [
            "This is line A\n",
            "This is line B\n",
            "This is line C\n",
            "This is line D\n",
            "\n"
          ]
        }
      ]
    },
    {
      "cell_type": "code",
      "source": [
        "#example11.txt\n",
        "with open('/content/gdrive/My Drive/Colab Notebooks/example11.txt','r') as testwritefile:\n",
        "  print(testwritefile.read())"
      ],
      "metadata": {
        "colab": {
          "base_uri": "https://localhost:8080/"
        },
        "id": "ThlWXom4IBqe",
        "outputId": "d3219768-1daa-491c-8a8c-d410c7f98618"
      },
      "execution_count": 30,
      "outputs": [
        {
          "output_type": "stream",
          "name": "stdout",
          "text": [
            "This is line A\n",
            "This is line B\n",
            "This is line C\n",
            "This is line D\n",
            "\n"
          ]
        }
      ]
    },
    {
      "cell_type": "code",
      "source": [
        "#End"
      ],
      "metadata": {
        "id": "XLXN9crtIOad"
      },
      "execution_count": null,
      "outputs": []
    }
  ]
}