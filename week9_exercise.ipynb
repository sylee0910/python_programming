{
 "cells": [
  {
   "cell_type": "code",
   "execution_count": null,
   "id": "3a364604-2482-422b-b1da-d29cd78ffe50",
   "metadata": {},
   "outputs": [],
   "source": [
    "# 이승율(2023202417)"
   ]
  },
  {
   "cell_type": "code",
   "execution_count": null,
   "id": "e5df3f7d-3019-42a4-bb81-45cd3d920788",
   "metadata": {},
   "outputs": [],
   "source": [
    "# Week9"
   ]
  },
  {
   "cell_type": "code",
   "execution_count": null,
   "id": "4e20d2e3-8546-4390-821c-e84e9ab9a898",
   "metadata": {},
   "outputs": [],
   "source": [
    "# Comprehension"
   ]
  },
  {
   "cell_type": "code",
   "execution_count": 1,
   "id": "66782e39-d7d0-497c-b411-29f335c44d0d",
   "metadata": {},
   "outputs": [],
   "source": [
    "# List Comprehension(p4)\n",
    "number_list = []\n",
    "number_list.append(1)\n",
    "number_list.append(2)\n",
    "number_list.append(3)\n",
    "number_list.append(4)\n",
    "number_list.append(5)"
   ]
  },
  {
   "cell_type": "code",
   "execution_count": 2,
   "id": "3ac8a256-846a-44fe-93a1-f4f39a7e9060",
   "metadata": {},
   "outputs": [
    {
     "data": {
      "text/plain": [
       "[1, 2, 3, 4, 5]"
      ]
     },
     "execution_count": 2,
     "metadata": {},
     "output_type": "execute_result"
    }
   ],
   "source": [
    "number_list"
   ]
  },
  {
   "cell_type": "code",
   "execution_count": 4,
   "id": "aaedccd6-721a-40b2-a052-d16407e2cc92",
   "metadata": {},
   "outputs": [],
   "source": [
    "number_list = []\n",
    "for number in range(1,6):\n",
    "    number_list.append(number)"
   ]
  },
  {
   "cell_type": "code",
   "execution_count": 5,
   "id": "f56d6303-84ab-419e-8952-a5032da3367a",
   "metadata": {},
   "outputs": [
    {
     "data": {
      "text/plain": [
       "[1, 2, 3, 4, 5]"
      ]
     },
     "execution_count": 5,
     "metadata": {},
     "output_type": "execute_result"
    }
   ],
   "source": [
    "number_list"
   ]
  },
  {
   "cell_type": "code",
   "execution_count": 6,
   "id": "f6913c39-cd69-482f-bea1-751b4556fa3b",
   "metadata": {},
   "outputs": [],
   "source": [
    "number_list = list(range(1,6))"
   ]
  },
  {
   "cell_type": "code",
   "execution_count": 7,
   "id": "b9eada4c-1983-4a2a-9913-3f314789a37a",
   "metadata": {},
   "outputs": [
    {
     "data": {
      "text/plain": [
       "[1, 2, 3, 4, 5]"
      ]
     },
     "execution_count": 7,
     "metadata": {},
     "output_type": "execute_result"
    }
   ],
   "source": [
    "number_list"
   ]
  },
  {
   "cell_type": "code",
   "execution_count": 9,
   "id": "cd34012f-5121-4444-8fa7-cf38c775c93e",
   "metadata": {},
   "outputs": [
    {
     "data": {
      "text/plain": [
       "list"
      ]
     },
     "execution_count": 9,
     "metadata": {},
     "output_type": "execute_result"
    }
   ],
   "source": [
    "type(number_list)"
   ]
  },
  {
   "cell_type": "code",
   "execution_count": 10,
   "id": "a0e0f80a-9f58-49ec-a1ac-95c689613d97",
   "metadata": {},
   "outputs": [],
   "source": [
    "# List Comprehension(p5)\n",
    "number_list = [number for number in range(1,6)]"
   ]
  },
  {
   "cell_type": "code",
   "execution_count": 11,
   "id": "ae3f72ae-3fa1-436b-856e-57658cfabb33",
   "metadata": {},
   "outputs": [
    {
     "data": {
      "text/plain": [
       "[1, 2, 3, 4, 5]"
      ]
     },
     "execution_count": 11,
     "metadata": {},
     "output_type": "execute_result"
    }
   ],
   "source": [
    "number_list"
   ]
  },
  {
   "cell_type": "code",
   "execution_count": 12,
   "id": "44a1b753-8603-416b-a093-77074ffbda1a",
   "metadata": {},
   "outputs": [],
   "source": [
    "number_list = [number-1 for number in range(1,6)]"
   ]
  },
  {
   "cell_type": "code",
   "execution_count": 13,
   "id": "2a77513b-6d5d-4ad5-ac0b-045edc482356",
   "metadata": {},
   "outputs": [
    {
     "data": {
      "text/plain": [
       "[0, 1, 2, 3, 4]"
      ]
     },
     "execution_count": 13,
     "metadata": {},
     "output_type": "execute_result"
    }
   ],
   "source": [
    "number_list"
   ]
  },
  {
   "cell_type": "code",
   "execution_count": 14,
   "id": "051fc7a9-190e-4db1-9f92-e6a5b6cff0c4",
   "metadata": {},
   "outputs": [],
   "source": [
    "a_list = [number for number in range(1,6) if number % 2 == 1]"
   ]
  },
  {
   "cell_type": "code",
   "execution_count": 15,
   "id": "3726b240-ce04-42a9-8628-22ca56628c5b",
   "metadata": {},
   "outputs": [
    {
     "data": {
      "text/plain": [
       "[1, 3, 5]"
      ]
     },
     "execution_count": 15,
     "metadata": {},
     "output_type": "execute_result"
    }
   ],
   "source": [
    "a_list"
   ]
  },
  {
   "cell_type": "code",
   "execution_count": 17,
   "id": "24d2932a-7f14-4500-8a1d-f0bbe8f01a25",
   "metadata": {},
   "outputs": [],
   "source": [
    "# List Comprehension(p6)\n",
    "a_list = []\n",
    "for number in range(1,6):\n",
    "    if number%2 == 1:\n",
    "        a_list.append(number)"
   ]
  },
  {
   "cell_type": "code",
   "execution_count": 18,
   "id": "750c4313-8dbb-4c1f-8936-89e7eea405d9",
   "metadata": {},
   "outputs": [
    {
     "data": {
      "text/plain": [
       "[1, 3, 5]"
      ]
     },
     "execution_count": 18,
     "metadata": {},
     "output_type": "execute_result"
    }
   ],
   "source": [
    "a_list"
   ]
  },
  {
   "cell_type": "code",
   "execution_count": 19,
   "id": "a1b69029-ef66-4c1e-9ffa-8890f02600c8",
   "metadata": {},
   "outputs": [],
   "source": [
    "# List Comprehension(p7)\n",
    "sentence = ['I', 'Love', 'Python', 'Soooooo', 'MUCH!!!']"
   ]
  },
  {
   "cell_type": "code",
   "execution_count": 20,
   "id": "3612d0f3-d8bd-416c-8d0b-b5dabe866b20",
   "metadata": {},
   "outputs": [
    {
     "data": {
      "text/plain": [
       "['i', 'love', 'python', 'soooooo', 'much!!!']"
      ]
     },
     "execution_count": 20,
     "metadata": {},
     "output_type": "execute_result"
    }
   ],
   "source": [
    "[word.lower() for word in sentence]"
   ]
  },
  {
   "cell_type": "code",
   "execution_count": 21,
   "id": "d40a5ecc-fc4c-4375-a324-1783eb7e7183",
   "metadata": {},
   "outputs": [
    {
     "data": {
      "text/plain": [
       "['Soooooo', 'MUCH!!!']"
      ]
     },
     "execution_count": 21,
     "metadata": {},
     "output_type": "execute_result"
    }
   ],
   "source": [
    "[word for word in sentence if len(word) > 6]"
   ]
  },
  {
   "cell_type": "code",
   "execution_count": 23,
   "id": "d86d79ec-d762-4ced-8fff-08795f444f17",
   "metadata": {},
   "outputs": [
    {
     "data": {
      "text/plain": [
       "[(0, 0, 0),\n",
       " (1, 1, 1),\n",
       " (2, 4, 8),\n",
       " (3, 9, 27),\n",
       " (4, 16, 64),\n",
       " (5, 25, 125),\n",
       " (6, 36, 216),\n",
       " (7, 49, 343),\n",
       " (8, 64, 512),\n",
       " (9, 81, 729)]"
      ]
     },
     "execution_count": 23,
     "metadata": {},
     "output_type": "execute_result"
    }
   ],
   "source": [
    "[(x, x**2, x**3) for x in range(10)]"
   ]
  },
  {
   "cell_type": "code",
   "execution_count": 24,
   "id": "e389cbc3-c2d7-4974-9bc2-2a4a0ef3b58e",
   "metadata": {},
   "outputs": [
    {
     "name": "stdout",
     "output_type": "stream",
     "text": [
      "1 1\n",
      "1 2\n",
      "2 1\n",
      "2 2\n",
      "3 1\n",
      "3 2\n"
     ]
    }
   ],
   "source": [
    "# List Comprehension(p8)\n",
    "rows = range(1,4)\n",
    "cols = range(1,3)\n",
    "for row in rows:\n",
    "    for col in cols:\n",
    "        print(row,col)"
   ]
  },
  {
   "cell_type": "code",
   "execution_count": 25,
   "id": "827d92af-106c-4acb-b3ff-317f45324164",
   "metadata": {},
   "outputs": [
    {
     "name": "stdout",
     "output_type": "stream",
     "text": [
      "(1, 1)\n",
      "(1, 2)\n",
      "(2, 1)\n",
      "(2, 2)\n",
      "(3, 1)\n",
      "(3, 2)\n"
     ]
    }
   ],
   "source": [
    "rows = range(1,4)\n",
    "cols = range(1,3)\n",
    "cells = [(row, col) for row in rows for col in cols]\n",
    "for cell in cells:\n",
    "    print(cell)"
   ]
  },
  {
   "cell_type": "code",
   "execution_count": 26,
   "id": "7775d1c7-9369-479d-be26-a3b22c6e1b50",
   "metadata": {},
   "outputs": [
    {
     "data": {
      "text/plain": [
       "[(1, 0),\n",
       " (2, 0),\n",
       " (2, 1),\n",
       " (3, 0),\n",
       " (3, 1),\n",
       " (3, 2),\n",
       " (4, 0),\n",
       " (4, 1),\n",
       " (4, 2),\n",
       " (4, 3)]"
      ]
     },
     "execution_count": 26,
     "metadata": {},
     "output_type": "execute_result"
    }
   ],
   "source": [
    "[(i,j) for i in range(5) for j in range(i)]"
   ]
  },
  {
   "cell_type": "code",
   "execution_count": 41,
   "id": "93a15ef6-12e1-47a5-a6eb-e9c32e14b532",
   "metadata": {},
   "outputs": [
    {
     "name": "stdout",
     "output_type": "stream",
     "text": [
      "row: 0\n",
      "row: 1\n",
      "col: 0\n",
      "row: 2\n",
      "col: 0\n",
      "col: 1\n",
      "row: 3\n",
      "col: 0\n",
      "col: 1\n",
      "col: 2\n",
      "row: 4\n",
      "col: 0\n",
      "col: 1\n",
      "col: 2\n",
      "col: 3\n"
     ]
    }
   ],
   "source": [
    "for row in range(5):\n",
    "    print('row:', row)\n",
    "    for col in range(row):\n",
    "        print('col:',col)"
   ]
  },
  {
   "cell_type": "code",
   "execution_count": 45,
   "id": "5dc2a137-0151-4bdf-9ef0-e33ac9bad2c9",
   "metadata": {},
   "outputs": [],
   "source": [
    "# Dictionary Comprehension(p9)\n",
    "word = 'letters'\n",
    "letter_counts = {letter: word.count(letter) for letter in word}"
   ]
  },
  {
   "cell_type": "code",
   "execution_count": 46,
   "id": "8e7cbb57-b04c-46e4-ab71-532ff4ff0b6b",
   "metadata": {},
   "outputs": [
    {
     "data": {
      "text/plain": [
       "{'l': 1, 'e': 2, 't': 2, 'r': 1, 's': 1}"
      ]
     },
     "execution_count": 46,
     "metadata": {},
     "output_type": "execute_result"
    }
   ],
   "source": [
    "letter_counts"
   ]
  },
  {
   "cell_type": "code",
   "execution_count": 47,
   "id": "f1d43a0f-a2ed-4446-8911-eb5312102145",
   "metadata": {},
   "outputs": [
    {
     "data": {
      "text/plain": [
       "{'t': 2, 'r': 1, 'e': 2, 's': 1, 'l': 1}"
      ]
     },
     "execution_count": 47,
     "metadata": {},
     "output_type": "execute_result"
    }
   ],
   "source": [
    "# Dictionary Comprehension(p10)\n",
    "word = 'letters'\n",
    "letter_counts = {letter: word.count(letter) for letter in set(word)}\n",
    "letter_counts"
   ]
  },
  {
   "cell_type": "code",
   "execution_count": 48,
   "id": "e02514d5-e616-42f7-96a9-4dc8af29d226",
   "metadata": {},
   "outputs": [
    {
     "data": {
      "text/plain": [
       "dict"
      ]
     },
     "execution_count": 48,
     "metadata": {},
     "output_type": "execute_result"
    }
   ],
   "source": [
    "type(letter_counts)"
   ]
  },
  {
   "cell_type": "code",
   "execution_count": 49,
   "id": "8992b60f-e337-48d8-8476-6a60f53beaac",
   "metadata": {},
   "outputs": [],
   "source": [
    "# Set Comprehension(p11)\n",
    "a_set = {number for number in range(1,6) if number % 3 == 1}"
   ]
  },
  {
   "cell_type": "code",
   "execution_count": 50,
   "id": "575e27e1-e7d7-4309-86f5-ff155eb3e485",
   "metadata": {},
   "outputs": [
    {
     "data": {
      "text/plain": [
       "{1, 4}"
      ]
     },
     "execution_count": 50,
     "metadata": {},
     "output_type": "execute_result"
    }
   ],
   "source": [
    "a_set"
   ]
  },
  {
   "cell_type": "code",
   "execution_count": 53,
   "id": "25e2c765-7bd1-496a-b253-23a583bb4bcc",
   "metadata": {},
   "outputs": [],
   "source": [
    "# Functions and code structure"
   ]
  },
  {
   "cell_type": "code",
   "execution_count": 54,
   "id": "db43ecc3-ec64-4e4e-938b-2db562ba1a2d",
   "metadata": {},
   "outputs": [],
   "source": [
    "# Functions(p15)\n",
    "def sum(a,b):\n",
    "    return a+b"
   ]
  },
  {
   "cell_type": "code",
   "execution_count": 55,
   "id": "827b2ee6-873b-4ba3-a5c0-db31ddd7eec6",
   "metadata": {},
   "outputs": [
    {
     "data": {
      "text/plain": [
       "3"
      ]
     },
     "execution_count": 55,
     "metadata": {},
     "output_type": "execute_result"
    }
   ],
   "source": [
    "sum(1,2)"
   ]
  },
  {
   "cell_type": "code",
   "execution_count": 56,
   "id": "14c6a81e-b0c7-41d4-96f2-7f6c4c5f746f",
   "metadata": {},
   "outputs": [
    {
     "data": {
      "text/plain": [
       "3.5"
      ]
     },
     "execution_count": 56,
     "metadata": {},
     "output_type": "execute_result"
    }
   ],
   "source": [
    "sum(1.3, 2.2)"
   ]
  },
  {
   "cell_type": "code",
   "execution_count": 60,
   "id": "608e7fda-be33-4046-b293-55cd5051dd99",
   "metadata": {},
   "outputs": [
    {
     "data": {
      "text/plain": [
       "'Love Python'"
      ]
     },
     "execution_count": 60,
     "metadata": {},
     "output_type": "execute_result"
    }
   ],
   "source": [
    "sum('Love ', 'Python')"
   ]
  },
  {
   "cell_type": "code",
   "execution_count": 63,
   "id": "b8e2cd04-a3d2-4f6b-93aa-6339c8e62557",
   "metadata": {},
   "outputs": [
    {
     "name": "stdout",
     "output_type": "stream",
     "text": [
      "Monday :drink coffee - eat banana - enjoy tiramisu\n",
      "Tuesday :drink tea - eat orange - enjoy ice cream\n",
      "Wednesday :drink beer - eat peach - enjoy pie\n"
     ]
    }
   ],
   "source": [
    "# iteration - zip(p16)\n",
    "\n",
    "days = ['Monday','Tuesday','Wednesday']\n",
    "fruits = ['banana','orange','peach']\n",
    "drinks = ['coffee','tea','beer']\n",
    "desserts = ['tiramisu','ice cream','pie','pudding']\n",
    "\n",
    "for day, fruits, drink, dessert in zip(days, fruits, drinks, desserts):\n",
    "    print(day, \":drink\", drink, \"- eat\", fruits, \"- enjoy\", dessert)"
   ]
  },
  {
   "cell_type": "code",
   "execution_count": 64,
   "id": "8aea33d6-1096-44bf-bb5e-945c4fb23ffe",
   "metadata": {},
   "outputs": [
    {
     "data": {
      "text/plain": [
       "[('Monday', 'Lundi'), ('Tuesday', 'Mardi'), ('Wednesday', 'Mercredi')]"
      ]
     },
     "execution_count": 64,
     "metadata": {},
     "output_type": "execute_result"
    }
   ],
   "source": [
    "# iteration - zip(p17)\n",
    "english = 'Monday','Tuesday','Wednesday'\n",
    "french = 'Lundi','Mardi','Mercredi'\n",
    "\n",
    "list(zip(english, french))"
   ]
  },
  {
   "cell_type": "code",
   "execution_count": 65,
   "id": "44bef98e-7e67-4472-8810-68be7ee77ed7",
   "metadata": {},
   "outputs": [
    {
     "data": {
      "text/plain": [
       "tuple"
      ]
     },
     "execution_count": 65,
     "metadata": {},
     "output_type": "execute_result"
    }
   ],
   "source": [
    "type(english)"
   ]
  },
  {
   "cell_type": "code",
   "execution_count": 66,
   "id": "1bea808c-1d04-463a-afab-f12c26fdb934",
   "metadata": {},
   "outputs": [
    {
     "data": {
      "text/plain": [
       "zip"
      ]
     },
     "execution_count": 66,
     "metadata": {},
     "output_type": "execute_result"
    }
   ],
   "source": [
    "type(zip(english, french))"
   ]
  },
  {
   "cell_type": "code",
   "execution_count": 67,
   "id": "461b4345-9a25-41cf-9e9e-52efb5b7db1d",
   "metadata": {},
   "outputs": [
    {
     "data": {
      "text/plain": [
       "{'Monday': 'Lundi', 'Tuesday': 'Mardi', 'Wednesday': 'Mercredi'}"
      ]
     },
     "execution_count": 67,
     "metadata": {},
     "output_type": "execute_result"
    }
   ],
   "source": [
    "dict(zip(english, french))"
   ]
  },
  {
   "cell_type": "code",
   "execution_count": 68,
   "id": "a9897ceb-c51c-4ebe-bb37-417130b1963f",
   "metadata": {},
   "outputs": [],
   "source": [
    "# Functions(p18)\n",
    "def menu(wine, entree, dessert):\n",
    "    return {'wine': wine, 'entree': entree, 'dessert': dessert}"
   ]
  },
  {
   "cell_type": "code",
   "execution_count": 69,
   "id": "e1825fb8-7f09-4656-ac1a-2452570613ad",
   "metadata": {},
   "outputs": [
    {
     "data": {
      "text/plain": [
       "{'wine': 'chardonnay', 'entree': 'chicken', 'dessert': 'cake'}"
      ]
     },
     "execution_count": 69,
     "metadata": {},
     "output_type": "execute_result"
    }
   ],
   "source": [
    "menu('chardonnay','chicken','cake')"
   ]
  },
  {
   "cell_type": "code",
   "execution_count": 70,
   "id": "4ebb910e-5197-487a-b6d5-c2b25fb2f21b",
   "metadata": {},
   "outputs": [
    {
     "data": {
      "text/plain": [
       "{'wine': 'bordeaux', 'entree': 'beef', 'dessert': 'bagel'}"
      ]
     },
     "execution_count": 70,
     "metadata": {},
     "output_type": "execute_result"
    }
   ],
   "source": [
    "# Functions(p19)\n",
    "menu(entree='beef',dessert='bagel',wine='bordeaux')"
   ]
  },
  {
   "cell_type": "code",
   "execution_count": 71,
   "id": "08587b47-c15f-4f21-bba0-e32e2f1e5e4c",
   "metadata": {},
   "outputs": [
    {
     "data": {
      "text/plain": [
       "{'wine': 'frontenac', 'entree': 'fish', 'dessert': 'flan'}"
      ]
     },
     "execution_count": 71,
     "metadata": {},
     "output_type": "execute_result"
    }
   ],
   "source": [
    "menu('frontenac',dessert='flan',entree='fish')"
   ]
  },
  {
   "cell_type": "code",
   "execution_count": 74,
   "id": "b55ed7d4-043f-4ac9-a3f3-42cd00ef30ce",
   "metadata": {},
   "outputs": [
    {
     "data": {
      "text/plain": [
       "{'wine': 'chardonnay', 'entree': 'chicken', 'dessert': 'puding'}"
      ]
     },
     "execution_count": 74,
     "metadata": {},
     "output_type": "execute_result"
    }
   ],
   "source": [
    "# Functions(p20)\n",
    "def menu(wine, entree, dessert='puding'):\n",
    "    return {'wine': wine, 'entree': entree, 'dessert':dessert}\n",
    "\n",
    "menu('chardonnay','chicken')"
   ]
  },
  {
   "cell_type": "code",
   "execution_count": 75,
   "id": "df3fb39a-3a4a-44a9-9bd5-1200292c841f",
   "metadata": {},
   "outputs": [
    {
     "data": {
      "text/plain": [
       "{'wine': 'dunkelfelder', 'entree': 'duck', 'dessert': 'doughnut'}"
      ]
     },
     "execution_count": 75,
     "metadata": {},
     "output_type": "execute_result"
    }
   ],
   "source": [
    "menu('dunkelfelder', 'duck', 'doughnut')"
   ]
  },
  {
   "cell_type": "code",
   "execution_count": 76,
   "id": "1736e6dc-8f0c-4b4b-9d04-c2b3c55a95ca",
   "metadata": {},
   "outputs": [],
   "source": [
    "# Functions(p21)\n",
    "def menu(price, wine='chardonnay', entree='chicken', dessert='pudding'):\n",
    "    return {'price': price, 'wine': wine, 'entree': entree, 'dessert': dessert}"
   ]
  },
  {
   "cell_type": "code",
   "execution_count": 77,
   "id": "576c3720-f4da-4f0d-b4ce-a9f6510609c6",
   "metadata": {},
   "outputs": [
    {
     "data": {
      "text/plain": [
       "{'price': 100, 'wine': 'chardonnay', 'entree': 'chicken', 'dessert': 'pudding'}"
      ]
     },
     "execution_count": 77,
     "metadata": {},
     "output_type": "execute_result"
    }
   ],
   "source": [
    "menu(100)"
   ]
  },
  {
   "cell_type": "code",
   "execution_count": 78,
   "id": "95f432b1-58ce-4232-8d31-8549a64258e3",
   "metadata": {},
   "outputs": [
    {
     "data": {
      "text/plain": [
       "{'price': 100, 'wine': 'chardonnay', 'entree': 'chicken', 'dessert': 'pudding'}"
      ]
     },
     "execution_count": 78,
     "metadata": {},
     "output_type": "execute_result"
    }
   ],
   "source": [
    "menu(price=100)"
   ]
  },
  {
   "cell_type": "code",
   "execution_count": 79,
   "id": "e2bffb7f-4923-421f-8016-1de0d45b58d1",
   "metadata": {},
   "outputs": [
    {
     "data": {
      "text/plain": [
       "{'price': 120, 'wine': 'chardonnay', 'entree': 'beef', 'dessert': 'pudding'}"
      ]
     },
     "execution_count": 79,
     "metadata": {},
     "output_type": "execute_result"
    }
   ],
   "source": [
    "menu(price=120, entree='beef')"
   ]
  },
  {
   "cell_type": "code",
   "execution_count": 80,
   "id": "24e308d4-20ce-4607-9f2b-3f7c192f321a",
   "metadata": {},
   "outputs": [
    {
     "data": {
      "text/plain": [
       "{'price': 110, 'wine': 'chardonnay', 'entree': 'chicken', 'dessert': 'bagle'}"
      ]
     },
     "execution_count": 80,
     "metadata": {},
     "output_type": "execute_result"
    }
   ],
   "source": [
    "menu(dessert='bagle',price=110)"
   ]
  },
  {
   "cell_type": "code",
   "execution_count": 81,
   "id": "704242cc-0bf0-47fc-8738-d6a5f9ed2d63",
   "metadata": {},
   "outputs": [
    {
     "data": {
      "text/plain": [
       "{'price': 'eighty',\n",
       " 'wine': 'saint-pierre',\n",
       " 'entree': 'fish',\n",
       " 'dessert': 'pudding'}"
      ]
     },
     "execution_count": 81,
     "metadata": {},
     "output_type": "execute_result"
    }
   ],
   "source": [
    "menu('eighty', 'saint-pierre', 'fish')"
   ]
  },
  {
   "cell_type": "code",
   "execution_count": 83,
   "id": "5b0c40e7-18e3-4194-a595-82440aba429e",
   "metadata": {},
   "outputs": [
    {
     "data": {
      "text/plain": [
       "{'price': 'hundred',\n",
       " 'wine': 'saint-pierre',\n",
       " 'entree': 'chicken',\n",
       " 'dessert': 'pudding'}"
      ]
     },
     "execution_count": 83,
     "metadata": {},
     "output_type": "execute_result"
    }
   ],
   "source": [
    "menu('hundred', wine='saint-pierre')"
   ]
  },
  {
   "cell_type": "code",
   "execution_count": 84,
   "id": "24e031e4-fdd5-4279-8bea-db2267e053b5",
   "metadata": {},
   "outputs": [],
   "source": [
    "# Functions(p22)\n",
    "def menu(price, wine='chardonnay', entree='chicken', dessert='pudding'):\n",
    "    return {'price':price, 'wine':wine, 'entree':entree, 'dessert':dessert}"
   ]
  },
  {
   "cell_type": "code",
   "execution_count": 85,
   "id": "7063341d-1593-400d-90db-20174cf7571a",
   "metadata": {},
   "outputs": [
    {
     "ename": "TypeError",
     "evalue": "menu() missing 1 required positional argument: 'price'",
     "output_type": "error",
     "traceback": [
      "\u001b[1;31m---------------------------------------------------------------------------\u001b[0m",
      "\u001b[1;31mTypeError\u001b[0m                                 Traceback (most recent call last)",
      "Cell \u001b[1;32mIn [85], line 1\u001b[0m\n\u001b[1;32m----> 1\u001b[0m \u001b[43mmenu\u001b[49m\u001b[43m(\u001b[49m\u001b[43m)\u001b[49m\n",
      "\u001b[1;31mTypeError\u001b[0m: menu() missing 1 required positional argument: 'price'"
     ]
    }
   ],
   "source": [
    "menu()"
   ]
  },
  {
   "cell_type": "code",
   "execution_count": 86,
   "id": "24591da8-7af5-4b83-9037-9db382780537",
   "metadata": {},
   "outputs": [
    {
     "ename": "SyntaxError",
     "evalue": "positional argument follows keyword argument (2276001416.py, line 1)",
     "output_type": "error",
     "traceback": [
      "\u001b[1;36m  Cell \u001b[1;32mIn [86], line 1\u001b[1;36m\u001b[0m\n\u001b[1;33m    menu(price=100, 'saint-pierre')\u001b[0m\n\u001b[1;37m                                  ^\u001b[0m\n\u001b[1;31mSyntaxError\u001b[0m\u001b[1;31m:\u001b[0m positional argument follows keyword argument\n"
     ]
    }
   ],
   "source": [
    "menu(price=100, 'saint-pierre')"
   ]
  },
  {
   "cell_type": "code",
   "execution_count": 88,
   "id": "ab478627-a93c-4859-8ef9-88123cb3a919",
   "metadata": {},
   "outputs": [
    {
     "ename": "TypeError",
     "evalue": "menu() got multiple values for argument 'price'",
     "output_type": "error",
     "traceback": [
      "\u001b[1;31m---------------------------------------------------------------------------\u001b[0m",
      "\u001b[1;31mTypeError\u001b[0m                                 Traceback (most recent call last)",
      "Cell \u001b[1;32mIn [88], line 1\u001b[0m\n\u001b[1;32m----> 1\u001b[0m \u001b[43mmenu\u001b[49m\u001b[43m(\u001b[49m\u001b[38;5;241;43m100\u001b[39;49m\u001b[43m,\u001b[49m\u001b[43m \u001b[49m\u001b[43mprice\u001b[49m\u001b[38;5;241;43m=\u001b[39;49m\u001b[38;5;241;43m120\u001b[39;49m\u001b[43m)\u001b[49m\n",
      "\u001b[1;31mTypeError\u001b[0m: menu() got multiple values for argument 'price'"
     ]
    }
   ],
   "source": [
    "menu(100, price=120)"
   ]
  },
  {
   "cell_type": "code",
   "execution_count": 89,
   "id": "733dd871-208a-4d2d-a9d8-18b7327beb99",
   "metadata": {},
   "outputs": [
    {
     "ename": "TypeError",
     "evalue": "menu() got an unexpected keyword argument 'main'",
     "output_type": "error",
     "traceback": [
      "\u001b[1;31m---------------------------------------------------------------------------\u001b[0m",
      "\u001b[1;31mTypeError\u001b[0m                                 Traceback (most recent call last)",
      "Cell \u001b[1;32mIn [89], line 1\u001b[0m\n\u001b[1;32m----> 1\u001b[0m \u001b[43mmenu\u001b[49m\u001b[43m(\u001b[49m\u001b[43mmain\u001b[49m\u001b[38;5;241;43m=\u001b[39;49m\u001b[38;5;124;43m'\u001b[39;49m\u001b[38;5;124;43mcream pasta\u001b[39;49m\u001b[38;5;124;43m'\u001b[39;49m\u001b[43m)\u001b[49m\n",
      "\u001b[1;31mTypeError\u001b[0m: menu() got an unexpected keyword argument 'main'"
     ]
    }
   ],
   "source": [
    "menu(main='cream pasta')"
   ]
  },
  {
   "cell_type": "code",
   "execution_count": 90,
   "id": "de19e29e-0b60-4677-bd4e-4a8678887dc3",
   "metadata": {},
   "outputs": [],
   "source": [
    "# docstring(p23)\n",
    "def echo(anything):\n",
    "    'echo returns its input argument'\n",
    "    return anything\n",
    "\n",
    "def print_if_true(thing, check):\n",
    "    if check:\n",
    "        print(thing)"
   ]
  },
  {
   "cell_type": "code",
   "execution_count": 91,
   "id": "09a84181-4c2b-4876-a0da-a1eb8fefa50a",
   "metadata": {},
   "outputs": [
    {
     "name": "stdout",
     "output_type": "stream",
     "text": [
      "Help on function echo in module __main__:\n",
      "\n",
      "echo(anything)\n",
      "    echo returns its input argument\n",
      "\n"
     ]
    }
   ],
   "source": [
    "# docstring(p24)\n",
    "help(echo)"
   ]
  },
  {
   "cell_type": "code",
   "execution_count": 92,
   "id": "daf88a6d-d875-4adb-85f2-9527a9b4dc26",
   "metadata": {},
   "outputs": [
    {
     "name": "stdout",
     "output_type": "stream",
     "text": [
      "Help on function print_if_true in module __main__:\n",
      "\n",
      "print_if_true(thing, check)\n",
      "\n"
     ]
    }
   ],
   "source": [
    "help(print_if_true)"
   ]
  },
  {
   "cell_type": "code",
   "execution_count": 93,
   "id": "25cc171d-340b-45b7-bea5-3a1ebe3e6e91",
   "metadata": {},
   "outputs": [
    {
     "data": {
      "text/plain": [
       "'end of exercise of week9'"
      ]
     },
     "execution_count": 93,
     "metadata": {},
     "output_type": "execute_result"
    }
   ],
   "source": [
    "echo('end of exercise of week9')"
   ]
  },
  {
   "cell_type": "code",
   "execution_count": 96,
   "id": "e0be6820-8547-44e9-aa2b-19809be0b71f",
   "metadata": {},
   "outputs": [
    {
     "name": "stdout",
     "output_type": "stream",
     "text": [
      "yeh\n"
     ]
    }
   ],
   "source": [
    "print_if_true('yeh', True)"
   ]
  },
  {
   "cell_type": "code",
   "execution_count": 97,
   "id": "ac440343-b037-4047-99e9-c6c1b319a935",
   "metadata": {},
   "outputs": [],
   "source": [
    "print_if_true('yeh', False)"
   ]
  },
  {
   "cell_type": "code",
   "execution_count": null,
   "id": "27933e1b-306d-450e-b63e-ce21bf238011",
   "metadata": {},
   "outputs": [],
   "source": [
    "#End"
   ]
  }
 ],
 "metadata": {
  "kernelspec": {
   "display_name": "Python 3 (ipykernel)",
   "language": "python",
   "name": "python3"
  },
  "language_info": {
   "codemirror_mode": {
    "name": "ipython",
    "version": 3
   },
   "file_extension": ".py",
   "mimetype": "text/x-python",
   "name": "python",
   "nbconvert_exporter": "python",
   "pygments_lexer": "ipython3",
   "version": "3.10.7"
  }
 },
 "nbformat": 4,
 "nbformat_minor": 5
}
