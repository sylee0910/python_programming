{
 "cells": [
  {
   "cell_type": "code",
   "execution_count": null,
   "id": "d24ed65b-af66-4c87-8a6b-c460fbdd730b",
   "metadata": {},
   "outputs": [],
   "source": [
    "# 이승율(2023202417)"
   ]
  },
  {
   "cell_type": "code",
   "execution_count": 3,
   "id": "5ae875d9-a20a-49b6-978c-6459445b13d7",
   "metadata": {},
   "outputs": [
    {
     "data": {
      "text/plain": [
       "range(0, 3)"
      ]
     },
     "execution_count": 3,
     "metadata": {},
     "output_type": "execute_result"
    }
   ],
   "source": [
    "test = range(3)\n",
    "test"
   ]
  },
  {
   "cell_type": "code",
   "execution_count": 4,
   "id": "07e77174-a8ba-48d8-8754-f7885d9a7a70",
   "metadata": {},
   "outputs": [
    {
     "data": {
      "text/plain": [
       "range"
      ]
     },
     "execution_count": 4,
     "metadata": {},
     "output_type": "execute_result"
    }
   ],
   "source": [
    "type(test)"
   ]
  },
  {
   "cell_type": "code",
   "execution_count": 5,
   "id": "4db9872e-8069-461b-8290-429219b7ed26",
   "metadata": {},
   "outputs": [
    {
     "data": {
      "text/plain": [
       "3"
      ]
     },
     "execution_count": 5,
     "metadata": {},
     "output_type": "execute_result"
    }
   ],
   "source": [
    "len(test)"
   ]
  },
  {
   "cell_type": "code",
   "execution_count": 6,
   "id": "ad4bd448-8a1b-4d90-b010-2319836edd04",
   "metadata": {},
   "outputs": [
    {
     "name": "stdout",
     "output_type": "stream",
     "text": [
      "1982\n",
      "1980\n",
      "1973\n"
     ]
    }
   ],
   "source": [
    "dates = [1982,1980,1973]\n",
    "N = len(dates)\n",
    "\n",
    "for i in range(N):\n",
    "    print(dates[i])"
   ]
  },
  {
   "cell_type": "code",
   "execution_count": 7,
   "id": "f5e238c3-12d1-4939-ba89-7a6c664597cd",
   "metadata": {},
   "outputs": [
    {
     "data": {
      "text/plain": [
       "list"
      ]
     },
     "execution_count": 7,
     "metadata": {},
     "output_type": "execute_result"
    }
   ],
   "source": [
    "type(dates)"
   ]
  },
  {
   "cell_type": "code",
   "execution_count": 6,
   "id": "243042ba-e859-49b4-aae5-a4f192205b59",
   "metadata": {},
   "outputs": [
    {
     "data": {
      "text/plain": [
       "3"
      ]
     },
     "execution_count": 6,
     "metadata": {},
     "output_type": "execute_result"
    }
   ],
   "source": [
    "N"
   ]
  },
  {
   "cell_type": "code",
   "execution_count": 8,
   "id": "8ad3035f-9e81-45af-aca1-bb965d8f4687",
   "metadata": {},
   "outputs": [
    {
     "name": "stdout",
     "output_type": "stream",
     "text": [
      "i is equal to 0\n",
      "i is equal to 1\n",
      "i is equal to 2\n",
      "i is equal to 3\n",
      "i is equal to 4\n",
      "i is equal to 5\n",
      "i is equal to 6\n",
      "i is equal to 7\n"
     ]
    }
   ],
   "source": [
    "for i in range(0,8):\n",
    "    print(\"i is equal to\", i)"
   ]
  },
  {
   "cell_type": "code",
   "execution_count": 9,
   "id": "23aac4ce-e6b0-42fa-8a27-0eba7e9ae04d",
   "metadata": {},
   "outputs": [
    {
     "name": "stdout",
     "output_type": "stream",
     "text": [
      "i is equal to 0\n",
      "i is equal to 1\n",
      "i is equal to 2\n",
      "i is equal to 3\n",
      "i is equal to 4\n",
      "i is equal to 5\n",
      "i is equal to 6\n",
      "i is equal to 7\n"
     ]
    }
   ],
   "source": [
    "for i in range(8):\n",
    "    print(\"i is equal to\", i)"
   ]
  },
  {
   "cell_type": "code",
   "execution_count": 10,
   "id": "5b0d4cdb-52c6-4547-bc81-05ce6d3d15a8",
   "metadata": {},
   "outputs": [
    {
     "name": "stdout",
     "output_type": "stream",
     "text": [
      "1982\n",
      "1980\n",
      "1973\n"
     ]
    }
   ],
   "source": [
    "for year in dates:\n",
    "    print(year)"
   ]
  },
  {
   "cell_type": "code",
   "execution_count": 11,
   "id": "62458b9b-8d45-4753-b71e-716796973ae9",
   "metadata": {},
   "outputs": [
    {
     "data": {
      "text/plain": [
       "int"
      ]
     },
     "execution_count": 11,
     "metadata": {},
     "output_type": "execute_result"
    }
   ],
   "source": [
    "type(year)"
   ]
  },
  {
   "cell_type": "code",
   "execution_count": 12,
   "id": "2bf01ac3-c9ff-4fce-9e4f-e6a27068397f",
   "metadata": {},
   "outputs": [
    {
     "name": "stdout",
     "output_type": "stream",
     "text": [
      "Before square  0 is red\n",
      "After square  0 is weight\n",
      "Before square  1 is yellow\n",
      "After square  1 is weight\n",
      "Before square  2 is green\n",
      "After square  2 is weight\n",
      "Before square  3 is purple\n",
      "After square  3 is weight\n",
      "Before square  4 is blue\n",
      "After square  4 is weight\n"
     ]
    }
   ],
   "source": [
    "squares = ['red','yellow','green','purple','blue']\n",
    "\n",
    "for i in range(len(squares)): # == range(0,5)\n",
    "    print(\"Before square \", i, 'is', squares[i])\n",
    "    squares[i] = 'weight'\n",
    "    print(\"After square \", i, 'is', squares[i])"
   ]
  },
  {
   "cell_type": "code",
   "execution_count": 13,
   "id": "353501bf-df0b-4250-9bdf-800922f0de12",
   "metadata": {},
   "outputs": [
    {
     "data": {
      "text/plain": [
       "list"
      ]
     },
     "execution_count": 13,
     "metadata": {},
     "output_type": "execute_result"
    }
   ],
   "source": [
    "type(squares)"
   ]
  },
  {
   "cell_type": "code",
   "execution_count": 14,
   "id": "2ad35f40-ada8-4b2a-bd97-c151e8fcd3b9",
   "metadata": {},
   "outputs": [
    {
     "name": "stdout",
     "output_type": "stream",
     "text": [
      "Before square is: red\n",
      "Before square is: yellow\n",
      "Before square is: green\n",
      "Before square is: purple\n",
      "Before square is: blue\n",
      "\n",
      "what the heck!\n",
      "what the heck!what the heck!\n",
      "what the heck!what the heck!what the heck!\n",
      "what the heck!what the heck!what the heck!what the heck!\n"
     ]
    }
   ],
   "source": [
    "squares = ['red', 'yellow', 'green', 'purple', 'blue']\n",
    "\n",
    "for i in squares:\n",
    "    print(\"Before square is:\", i)\n",
    "for i in range(0,5):\n",
    "    squares[i] = i*\"what the heck!\"\n",
    "    print(squares[i])\n"
   ]
  },
  {
   "cell_type": "code",
   "execution_count": 15,
   "id": "87597c24-fc33-4009-9350-ccc24df52f21",
   "metadata": {},
   "outputs": [
    {
     "name": "stdout",
     "output_type": "stream",
     "text": [
      "1982\n",
      "1980\n",
      "1973\n",
      "2000\n",
      "It took  4 repetation to get out of loop.\n"
     ]
    }
   ],
   "source": [
    "dates = [1982,1980,1973,2000]\n",
    "\n",
    "i = 0\n",
    "year = 0\n",
    "\n",
    "while(year != 2000): # == range(0,4)\n",
    "    year = dates[i]\n",
    "    i = i + 1\n",
    "    print(year)\n",
    "\n",
    "print(\"It took \", i, \"repetation to get out of loop.\")"
   ]
  },
  {
   "cell_type": "code",
   "execution_count": 16,
   "id": "83986284-65ef-4504-9eaa-0c35f903ff18",
   "metadata": {},
   "outputs": [
    {
     "data": {
      "text/plain": [
       "4"
      ]
     },
     "execution_count": 16,
     "metadata": {},
     "output_type": "execute_result"
    }
   ],
   "source": [
    "len(dates)"
   ]
  },
  {
   "cell_type": "code",
   "execution_count": 17,
   "id": "bab5227f-9718-40ba-a18d-f466725485d1",
   "metadata": {},
   "outputs": [
    {
     "name": "stdout",
     "output_type": "stream",
     "text": [
      "-5\n",
      "-4\n",
      "-3\n",
      "-2\n",
      "-1\n",
      "0\n",
      "1\n",
      "2\n",
      "3\n",
      "4\n",
      "5\n"
     ]
    }
   ],
   "source": [
    "#Quiz on Loops\n",
    "#Write a for loop the prints out all the element between -5 and 5 using the range function.\n",
    "\n",
    "for i in range(-5, 6):\n",
    "    print(i)"
   ]
  },
  {
   "cell_type": "code",
   "execution_count": 18,
   "id": "67a9670b-9f37-4dc4-a3d8-9039c2f6275c",
   "metadata": {},
   "outputs": [
    {
     "data": {
      "text/plain": [
       "list"
      ]
     },
     "execution_count": 18,
     "metadata": {},
     "output_type": "execute_result"
    }
   ],
   "source": [
    "#Print the elements of the following list:Genres = ['rock','R&B','Soundtrack','R&B','soul','pop'] Make sure you follow Python conventions.\n",
    "\n",
    "Genres = ['rock','R&B','Soundtrack','R&B','soul','pop']\n",
    "type(Genres)"
   ]
  },
  {
   "cell_type": "code",
   "execution_count": 19,
   "id": "4d3a66c1-ff6c-4234-a76e-cc0961852e3f",
   "metadata": {},
   "outputs": [
    {
     "data": {
      "text/plain": [
       "6"
      ]
     },
     "execution_count": 19,
     "metadata": {},
     "output_type": "execute_result"
    }
   ],
   "source": [
    "len(Genres)"
   ]
  },
  {
   "cell_type": "code",
   "execution_count": 20,
   "id": "b73bcf2f-1581-4338-8d71-1329eb69c420",
   "metadata": {},
   "outputs": [
    {
     "name": "stdout",
     "output_type": "stream",
     "text": [
      "rock\n",
      "R&B\n",
      "Soundtrack\n",
      "R&B\n",
      "soul\n",
      "pop\n"
     ]
    }
   ],
   "source": [
    "for i in range(len(Genres)):\n",
    "    print(Genres[i])"
   ]
  },
  {
   "cell_type": "code",
   "execution_count": 21,
   "id": "c64620b3-5c5e-4728-a0a6-3d0b1e7dea79",
   "metadata": {},
   "outputs": [
    {
     "name": "stdout",
     "output_type": "stream",
     "text": [
      "red\n",
      "yellow\n",
      "green\n",
      "purple\n",
      "blue\n"
     ]
    }
   ],
   "source": [
    "#Write a for loop that prints out the following list: squares=['red','yellow','green','purple','blue']\n",
    "\n",
    "squares = ['red','yellow','green','purple','blue']\n",
    "\n",
    "for s in squares:\n",
    "    print(s)"
   ]
  },
  {
   "cell_type": "code",
   "execution_count": 22,
   "id": "48f55d2e-39b5-4a4e-8461-daa354c30f38",
   "metadata": {},
   "outputs": [
    {
     "name": "stdout",
     "output_type": "stream",
     "text": [
      "10\n",
      "9.5\n",
      "10\n",
      "8\n",
      "7.5\n"
     ]
    }
   ],
   "source": [
    "#Write a while loop to display the values of the Rating of an album playlist stored in the list PlayListRatings.\n",
    "#If the score is less than 6, exit the loop.\n",
    "#The list PlayListRatings is given by: PlayListRatings = [10,9.5,10,8,7.5,5,10,10]\n",
    "\n",
    "PlayListRatings = [10, 9.5, 10, 8, 7.5, 5, 10,10]\n",
    "\n",
    "i = 1\n",
    "rating = PlayListRatings[0]\n",
    "\n",
    "while(rating >= 6):\n",
    "    print(rating)\n",
    "    rating = PlayListRatings[i]\n",
    "    i = i + 1"
   ]
  },
  {
   "cell_type": "code",
   "execution_count": 36,
   "id": "4aeb216d-9fb5-4a63-bcd1-b96775d5792b",
   "metadata": {},
   "outputs": [
    {
     "name": "stdout",
     "output_type": "stream",
     "text": [
      "squares[ 0 ], s : orange\n",
      "squares[ 1 ], s : orange\n",
      "['orange', 'orange']\n"
     ]
    }
   ],
   "source": [
    "#Write a while loop to copy the strings 'orange' of the list squares to the list new_squares.\n",
    "#Stop and exit the loop if the value on the list is not 'orange'\n",
    "\n",
    "squares = ['orange', 'orange', 'purple', 'blue', 'orange']\n",
    "new_squares = []\n",
    "\n",
    "i = 0\n",
    "\n",
    "while(squares[i] == 'orange'):\n",
    "    print(\"squares[\", i, \"], s :\", squares[i])\n",
    "    new_squares.append(squares[i])\n",
    "    i = i + 1\n",
    "    \n",
    "print(new_squares)"
   ]
  },
  {
   "cell_type": "code",
   "execution_count": null,
   "id": "cf22f736-b26c-4bec-a6e6-95e1ff3d60e8",
   "metadata": {},
   "outputs": [],
   "source": [
    "#End"
   ]
  }
 ],
 "metadata": {
  "kernelspec": {
   "display_name": "Python 3 (ipykernel)",
   "language": "python",
   "name": "python3"
  },
  "language_info": {
   "codemirror_mode": {
    "name": "ipython",
    "version": 3
   },
   "file_extension": ".py",
   "mimetype": "text/x-python",
   "name": "python",
   "nbconvert_exporter": "python",
   "pygments_lexer": "ipython3",
   "version": "3.10.7"
  }
 },
 "nbformat": 4,
 "nbformat_minor": 5
}
