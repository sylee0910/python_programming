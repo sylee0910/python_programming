{
 "cells": [
  {
   "cell_type": "code",
   "execution_count": 11,
   "id": "381dd2c0-0787-4feb-91c8-55cc8e9cdea8",
   "metadata": {},
   "outputs": [],
   "source": [
    "# 이승율(2023202417)"
   ]
  },
  {
   "cell_type": "code",
   "execution_count": 12,
   "id": "3e6841c7-c67e-4c35-9a52-010b5b519636",
   "metadata": {},
   "outputs": [
    {
     "name": "stdout",
     "output_type": "stream",
     "text": [
      "Hello, world!\n",
      "안녕하십니까, 23학번 박사과정 이승율입니다.\n"
     ]
    }
   ],
   "source": [
    "# Exercise 1 (Types) : Your First Program\n",
    "\n",
    "# Try your first Python output\n",
    "# Write your code below and press Shift+Enter to execute \n",
    "\n",
    "print(\"Hello, world!\")\n",
    "print(\"안녕하십니까, 23학번 박사과정 이승율입니다.\")"
   ]
  },
  {
   "cell_type": "code",
   "execution_count": 13,
   "id": "1312b0a4-4292-4132-b107-14a26b6d6f57",
   "metadata": {},
   "outputs": [
    {
     "data": {
      "text/plain": [
       "float"
      ]
     },
     "execution_count": 13,
     "metadata": {},
     "output_type": "execute_result"
    }
   ],
   "source": [
    "# Exercise 2 (Types): Get the object type\n",
    "\n",
    "type(12.0)"
   ]
  },
  {
   "cell_type": "code",
   "execution_count": 43,
   "id": "69174da1-1dae-4d75-bc1b-f50eb3cbf159",
   "metadata": {},
   "outputs": [
    {
     "data": {
      "text/plain": [
       "int"
      ]
     },
     "execution_count": 43,
     "metadata": {},
     "output_type": "execute_result"
    }
   ],
   "source": [
    "type(-1)"
   ]
  },
  {
   "cell_type": "code",
   "execution_count": 44,
   "id": "00bbea34-0bb8-452f-9501-fed091911981",
   "metadata": {},
   "outputs": [
    {
     "data": {
      "text/plain": [
       "int"
      ]
     },
     "execution_count": 44,
     "metadata": {},
     "output_type": "execute_result"
    }
   ],
   "source": [
    "type(4)"
   ]
  },
  {
   "cell_type": "code",
   "execution_count": 45,
   "id": "9ee73666-79a9-42c8-850c-c19daf0acb3e",
   "metadata": {},
   "outputs": [
    {
     "data": {
      "text/plain": [
       "int"
      ]
     },
     "execution_count": 45,
     "metadata": {},
     "output_type": "execute_result"
    }
   ],
   "source": [
    "type(0)"
   ]
  },
  {
   "cell_type": "code",
   "execution_count": 46,
   "id": "a0c01629-dada-4e8c-8950-631b9c43623b",
   "metadata": {},
   "outputs": [
    {
     "data": {
      "text/plain": [
       "float"
      ]
     },
     "execution_count": 46,
     "metadata": {},
     "output_type": "execute_result"
    }
   ],
   "source": [
    "type(1.0)"
   ]
  },
  {
   "cell_type": "code",
   "execution_count": 47,
   "id": "7bb45207-aea9-4b68-9844-767f017687bd",
   "metadata": {},
   "outputs": [
    {
     "data": {
      "text/plain": [
       "float"
      ]
     },
     "execution_count": 47,
     "metadata": {},
     "output_type": "execute_result"
    }
   ],
   "source": [
    "type(0.5)"
   ]
  },
  {
   "cell_type": "code",
   "execution_count": 48,
   "id": "b3d50736-28f8-45b5-b9f1-e82ed2a12753",
   "metadata": {},
   "outputs": [
    {
     "data": {
      "text/plain": [
       "float"
      ]
     },
     "execution_count": 48,
     "metadata": {},
     "output_type": "execute_result"
    }
   ],
   "source": [
    "type(0.56)"
   ]
  },
  {
   "cell_type": "code",
   "execution_count": 49,
   "id": "8d7bf5ce-92dc-46fd-87e4-48daefa36318",
   "metadata": {},
   "outputs": [
    {
     "data": {
      "text/plain": [
       "sys.float_info(max=1.7976931348623157e+308, max_exp=1024, max_10_exp=308, min=2.2250738585072014e-308, min_exp=-1021, min_10_exp=-307, dig=15, mant_dig=53, epsilon=2.220446049250313e-16, radix=2, rounds=1)"
      ]
     },
     "execution_count": 49,
     "metadata": {},
     "output_type": "execute_result"
    }
   ],
   "source": [
    "sys.float_info"
   ]
  },
  {
   "cell_type": "code",
   "execution_count": 50,
   "id": "e526571b-bee1-473f-b479-5d5496b8ac33",
   "metadata": {},
   "outputs": [
    {
     "data": {
      "text/plain": [
       "int"
      ]
     },
     "execution_count": 50,
     "metadata": {},
     "output_type": "execute_result"
    }
   ],
   "source": [
    "type(2)"
   ]
  },
  {
   "cell_type": "code",
   "execution_count": 51,
   "id": "1b172f0f-8428-4a3d-9438-68a6b8659bbe",
   "metadata": {},
   "outputs": [
    {
     "data": {
      "text/plain": [
       "2.0"
      ]
     },
     "execution_count": 51,
     "metadata": {},
     "output_type": "execute_result"
    }
   ],
   "source": [
    "float(2)"
   ]
  },
  {
   "cell_type": "code",
   "execution_count": 52,
   "id": "93b71727-fae3-4686-b098-eacdf502ee04",
   "metadata": {},
   "outputs": [
    {
     "data": {
      "text/plain": [
       "float"
      ]
     },
     "execution_count": 52,
     "metadata": {},
     "output_type": "execute_result"
    }
   ],
   "source": [
    "type(float(2))"
   ]
  },
  {
   "cell_type": "code",
   "execution_count": 53,
   "id": "9705e762-424d-4788-95cb-319260c163f9",
   "metadata": {},
   "outputs": [
    {
     "data": {
      "text/plain": [
       "1"
      ]
     },
     "execution_count": 53,
     "metadata": {},
     "output_type": "execute_result"
    }
   ],
   "source": [
    "int(1.1)"
   ]
  },
  {
   "cell_type": "code",
   "execution_count": 54,
   "id": "775dbb37-0c63-4528-a1f4-e536dd1ceaba",
   "metadata": {},
   "outputs": [
    {
     "data": {
      "text/plain": [
       "1"
      ]
     },
     "execution_count": 54,
     "metadata": {},
     "output_type": "execute_result"
    }
   ],
   "source": [
    "int('1')"
   ]
  },
  {
   "cell_type": "code",
   "execution_count": 55,
   "id": "08d5adfe-2d7d-40b9-a009-c1cfc837418f",
   "metadata": {},
   "outputs": [
    {
     "ename": "ValueError",
     "evalue": "invalid literal for int() with base 10: '1 or 2 people'",
     "output_type": "error",
     "traceback": [
      "\u001b[1;31m---------------------------------------------------------------------------\u001b[0m",
      "\u001b[1;31mValueError\u001b[0m                                Traceback (most recent call last)",
      "Cell \u001b[1;32mIn [55], line 1\u001b[0m\n\u001b[1;32m----> 1\u001b[0m \u001b[38;5;28;43mint\u001b[39;49m\u001b[43m(\u001b[49m\u001b[38;5;124;43m'\u001b[39;49m\u001b[38;5;124;43m1 or 2 people\u001b[39;49m\u001b[38;5;124;43m'\u001b[39;49m\u001b[43m)\u001b[49m\n",
      "\u001b[1;31mValueError\u001b[0m: invalid literal for int() with base 10: '1 or 2 people'"
     ]
    }
   ],
   "source": [
    "int('1 or 2 people')"
   ]
  },
  {
   "cell_type": "code",
   "execution_count": 28,
   "id": "b293c754-c97e-4972-acd8-d59e7cf73528",
   "metadata": {},
   "outputs": [
    {
     "data": {
      "text/plain": [
       "str"
      ]
     },
     "execution_count": 28,
     "metadata": {},
     "output_type": "execute_result"
    }
   ],
   "source": [
    "type('1.2')"
   ]
  },
  {
   "cell_type": "code",
   "execution_count": 56,
   "id": "de5c4171-45e3-4761-af51-d7b51bf0b740",
   "metadata": {},
   "outputs": [
    {
     "data": {
      "text/plain": [
       "float"
      ]
     },
     "execution_count": 56,
     "metadata": {},
     "output_type": "execute_result"
    }
   ],
   "source": [
    "type(float('1.2'))"
   ]
  },
  {
   "cell_type": "code",
   "execution_count": 57,
   "id": "1214f68f-b6b5-446b-8660-e723e2addc20",
   "metadata": {},
   "outputs": [
    {
     "data": {
      "text/plain": [
       "'1'"
      ]
     },
     "execution_count": 57,
     "metadata": {},
     "output_type": "execute_result"
    }
   ],
   "source": [
    "str(1)"
   ]
  },
  {
   "cell_type": "code",
   "execution_count": 58,
   "id": "bbb37d21-c451-44ca-ac82-ffbd5163b129",
   "metadata": {},
   "outputs": [
    {
     "data": {
      "text/plain": [
       "'1.2'"
      ]
     },
     "execution_count": 58,
     "metadata": {},
     "output_type": "execute_result"
    }
   ],
   "source": [
    "str(1.2)"
   ]
  },
  {
   "cell_type": "code",
   "execution_count": 59,
   "id": "ed35d44c-b670-4ae7-8db6-dcfb13708e39",
   "metadata": {},
   "outputs": [
    {
     "data": {
      "text/plain": [
       "True"
      ]
     },
     "execution_count": 59,
     "metadata": {},
     "output_type": "execute_result"
    }
   ],
   "source": [
    "True"
   ]
  },
  {
   "cell_type": "code",
   "execution_count": 60,
   "id": "2fcfdeae-6190-4791-871e-8aeb1d8ad501",
   "metadata": {},
   "outputs": [
    {
     "data": {
      "text/plain": [
       "False"
      ]
     },
     "execution_count": 60,
     "metadata": {},
     "output_type": "execute_result"
    }
   ],
   "source": [
    "False"
   ]
  },
  {
   "cell_type": "code",
   "execution_count": 61,
   "id": "8f09bcc7-50f5-4e8d-8fdf-ebbd7235fc34",
   "metadata": {},
   "outputs": [
    {
     "ename": "NameError",
     "evalue": "name 'false' is not defined",
     "output_type": "error",
     "traceback": [
      "\u001b[1;31m---------------------------------------------------------------------------\u001b[0m",
      "\u001b[1;31mNameError\u001b[0m                                 Traceback (most recent call last)",
      "Cell \u001b[1;32mIn [61], line 1\u001b[0m\n\u001b[1;32m----> 1\u001b[0m \u001b[43mfalse\u001b[49m\n",
      "\u001b[1;31mNameError\u001b[0m: name 'false' is not defined"
     ]
    }
   ],
   "source": [
    "false"
   ]
  },
  {
   "cell_type": "code",
   "execution_count": 62,
   "id": "f6e1f64f-eaa4-4beb-9c33-69d4362b9592",
   "metadata": {},
   "outputs": [
    {
     "data": {
      "text/plain": [
       "bool"
      ]
     },
     "execution_count": 62,
     "metadata": {},
     "output_type": "execute_result"
    }
   ],
   "source": [
    "type(True)"
   ]
  },
  {
   "cell_type": "code",
   "execution_count": 63,
   "id": "633db78d-666d-429d-8ea0-e1823a135361",
   "metadata": {},
   "outputs": [
    {
     "data": {
      "text/plain": [
       "bool"
      ]
     },
     "execution_count": 63,
     "metadata": {},
     "output_type": "execute_result"
    }
   ],
   "source": [
    "type(False)"
   ]
  },
  {
   "cell_type": "code",
   "execution_count": 64,
   "id": "0671ffd2-712f-4180-9724-f875ab63067d",
   "metadata": {},
   "outputs": [
    {
     "data": {
      "text/plain": [
       "1"
      ]
     },
     "execution_count": 64,
     "metadata": {},
     "output_type": "execute_result"
    }
   ],
   "source": [
    "int(True)"
   ]
  },
  {
   "cell_type": "code",
   "execution_count": 65,
   "id": "51f768df-c793-4025-8bfb-37b2627215bb",
   "metadata": {},
   "outputs": [
    {
     "data": {
      "text/plain": [
       "0"
      ]
     },
     "execution_count": 65,
     "metadata": {},
     "output_type": "execute_result"
    }
   ],
   "source": [
    "int(False)"
   ]
  },
  {
   "cell_type": "code",
   "execution_count": 66,
   "id": "4a83922a-35e5-44c2-9aff-ad2e15152f9d",
   "metadata": {},
   "outputs": [
    {
     "data": {
      "text/plain": [
       "True"
      ]
     },
     "execution_count": 66,
     "metadata": {},
     "output_type": "execute_result"
    }
   ],
   "source": [
    "bool(1)"
   ]
  },
  {
   "cell_type": "code",
   "execution_count": 67,
   "id": "cbc4a1be-8145-4215-a476-6dbc15d03585",
   "metadata": {},
   "outputs": [
    {
     "data": {
      "text/plain": [
       "False"
      ]
     },
     "execution_count": 67,
     "metadata": {},
     "output_type": "execute_result"
    }
   ],
   "source": [
    "bool(0)"
   ]
  },
  {
   "cell_type": "code",
   "execution_count": 68,
   "id": "84ae44d6-1bdd-4c47-b26c-9316c25b15b8",
   "metadata": {},
   "outputs": [
    {
     "data": {
      "text/plain": [
       "1.0"
      ]
     },
     "execution_count": 68,
     "metadata": {},
     "output_type": "execute_result"
    }
   ],
   "source": [
    "float(True)"
   ]
  },
  {
   "cell_type": "code",
   "execution_count": 69,
   "id": "cc3d2975-c420-4db6-9776-b13d6c7aa10a",
   "metadata": {},
   "outputs": [
    {
     "data": {
      "text/plain": [
       "float"
      ]
     },
     "execution_count": 69,
     "metadata": {},
     "output_type": "execute_result"
    }
   ],
   "source": [
    "#Exercise 3 (Types): Types\n",
    "\n",
    "type(6/2)"
   ]
  },
  {
   "cell_type": "code",
   "execution_count": 70,
   "id": "8cd8ffed-92fe-4d59-b893-8d11fbb7ba29",
   "metadata": {},
   "outputs": [
    {
     "data": {
      "text/plain": [
       "int"
      ]
     },
     "execution_count": 70,
     "metadata": {},
     "output_type": "execute_result"
    }
   ],
   "source": [
    "type(6//2)"
   ]
  },
  {
   "cell_type": "code",
   "execution_count": 71,
   "id": "3b04b48c-3ba2-42bf-96e1-db511a619189",
   "metadata": {},
   "outputs": [
    {
     "data": {
      "text/plain": [
       "2.6666666666666665"
      ]
     },
     "execution_count": 71,
     "metadata": {},
     "output_type": "execute_result"
    }
   ],
   "source": [
    "#Exercise 4 (Types): Expression\n",
    "\n",
    "160/60"
   ]
  },
  {
   "cell_type": "code",
   "execution_count": 72,
   "id": "e3793de6-1a1a-47a6-8c0c-ad6b02228c39",
   "metadata": {},
   "outputs": [
    {
     "data": {
      "text/plain": [
       "2"
      ]
     },
     "execution_count": 72,
     "metadata": {},
     "output_type": "execute_result"
    }
   ],
   "source": [
    "160//60"
   ]
  },
  {
   "cell_type": "code",
   "execution_count": 75,
   "id": "45148f5e-03d0-42da-8a87-d0f404e659b3",
   "metadata": {},
   "outputs": [
    {
     "name": "stdout",
     "output_type": "stream",
     "text": [
      "7\n"
     ]
    }
   ],
   "source": [
    "#Exercise 5 (Types): Expression and Variables in Python\n",
    "\n",
    "x = 3 + 2 * 2\n",
    "print(x)"
   ]
  },
  {
   "cell_type": "code",
   "execution_count": 76,
   "id": "2d014dad-cc58-49db-8fd4-3b6ee6a55be8",
   "metadata": {},
   "outputs": [
    {
     "name": "stdout",
     "output_type": "stream",
     "text": [
      "10\n"
     ]
    }
   ],
   "source": [
    "y = (3 + 2) * 2\n",
    "print(y)"
   ]
  },
  {
   "cell_type": "code",
   "execution_count": 77,
   "id": "1366e16a-20fd-4bfa-8cc3-f775d530369a",
   "metadata": {},
   "outputs": [
    {
     "name": "stdout",
     "output_type": "stream",
     "text": [
      "17\n"
     ]
    }
   ],
   "source": [
    "z = x + y\n",
    "print(z)"
   ]
  },
  {
   "cell_type": "code",
   "execution_count": null,
   "id": "3b536a07-0b5b-421d-951c-684a1ce3b6c3",
   "metadata": {},
   "outputs": [],
   "source": []
  }
 ],
 "metadata": {
  "kernelspec": {
   "display_name": "Python 3 (ipykernel)",
   "language": "python",
   "name": "python3"
  },
  "language_info": {
   "codemirror_mode": {
    "name": "ipython",
    "version": 3
   },
   "file_extension": ".py",
   "mimetype": "text/x-python",
   "name": "python",
   "nbconvert_exporter": "python",
   "pygments_lexer": "ipython3",
   "version": "3.10.7"
  }
 },
 "nbformat": 4,
 "nbformat_minor": 5
}
